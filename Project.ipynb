{
 "cells": [
  {
   "cell_type": "code",
   "execution_count": 1,
   "metadata": {},
   "outputs": [],
   "source": [
    "import tweepy\n",
    "import time\n",
    "import json"
   ]
  },
  {
   "cell_type": "code",
   "execution_count": 2,
   "metadata": {},
   "outputs": [],
   "source": [
    "cKey = \"mJ36rjyLTw5ENNSrRIIhZxHOp\"\n",
    "cSecret = \"Jpq2jDjN8EXztqLdHIJdQ5fQdfgT0gR3vcJhTZSJuRZseviRMp\"\n",
    "aToken = \"2955308736-FCh1avdYCEhjXd4crWhDU6B2t5VUw5jpetlxZrS\"\n",
    "aSecret = \"dLJqnauQd8mjyKxPuANCy6liB20uzLR7uFqDXrxw0xnd2\""
   ]
  },
  {
   "cell_type": "code",
   "execution_count": 3,
   "metadata": {},
   "outputs": [],
   "source": [
    "#Receive data\n",
    "class listener(tweepy.StreamListener):\n",
    "    \n",
    "    def on_status(self,status):\n",
    "        start = time.time()\n",
    "        try:\n",
    "            \n",
    "            print(status.text)\n",
    "            #save data onto a .txt file\n",
    "            file = open(\"stream.txt\",\"a\")\n",
    "            file.write(status.text)\n",
    "            file.write(\"\\n\\n\")\n",
    "            file.close()\n",
    "            print(\"---------Writing tweet---------\")\n",
    "            \n",
    "            if time.time() > start + timer:\n",
    "                raise error\n",
    "            \n",
    "        except:\n",
    "            print(\"Error\")\n",
    "            \n",
    "            \n",
    "    \n",
    "    def on_error(self,status):\n",
    "        print(status)"
   ]
  },
  {
   "cell_type": "code",
   "execution_count": null,
   "metadata": {},
   "outputs": [],
   "source": [
    "auth = tweepy.OAuthHandler(cKey, cSecret)\n",
    "auth.set_access_token(aToken,aSecret)\n",
    "\n",
    "\n",
    "while True:\n",
    "    user = input(\"Enter tag of tweet to extract: \")\n",
    "    timer = input(\"How long do you want to run the code(sec): \")\n",
    "    \n",
    "    twitterStream = tweepy.Stream(auth, listener(),tweet_mode='extended')\n",
    "    twitterStream.filter(track={user})\n",
    "    "
   ]
  },
  {
   "cell_type": "code",
   "execution_count": null,
   "metadata": {},
   "outputs": [],
   "source": []
  },
  {
   "cell_type": "code",
   "execution_count": null,
   "metadata": {},
   "outputs": [],
   "source": []
  }
 ],
 "metadata": {
  "kernelspec": {
   "display_name": "Python 3",
   "language": "python",
   "name": "python3"
  },
  "language_info": {
   "codemirror_mode": {
    "name": "ipython",
    "version": 3
   },
   "file_extension": ".py",
   "mimetype": "text/x-python",
   "name": "python",
   "nbconvert_exporter": "python",
   "pygments_lexer": "ipython3",
   "version": "3.6.5"
  }
 },
 "nbformat": 4,
 "nbformat_minor": 2
}
