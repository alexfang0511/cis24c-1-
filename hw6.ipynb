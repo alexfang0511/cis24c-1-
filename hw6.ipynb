{
 "cells": [
  {
   "cell_type": "markdown",
   "metadata": {},
   "source": [
    "\n",
    "# CIS024C - Summer 2018\n",
    "\n",
    "## Homework 6\n",
    "\n",
    "Homework 6 covers exercises that involve working with files\n",
    "\n",
    "The below sites have some interesting and useful information on working with files\n",
    "\n",
    "http://www.pythonforbeginners.com/files/reading-and-writing-files-in-python\n",
    "\n",
    "You will need to download this notebook and use this as a starting point for your homework. You will just need to fill in the content of each code-block (cell) and execute. Once you have completed all the exercises, you will need to save and upload this to your github repository under a folder called hw5.\n",
    "\n",
    "Note also the exercises build on top of one another so you might be able to do the next exercise if you have not completed the previous exercise.\n",
    "\n",
    "Post any questions you have on our Slack at **cis-024c1.slack.com**\n",
    "\n",
    "** Slides ** for Week 5 can be found at \n",
    "\n",
    "https://docs.google.com/presentation/d/16cRqqIoZl15gX5QC2oEvS8NuUiPrhzOyC5UerGpuWOM/edit?usp=sharing\n",
    "\n",
    "**Please refer back to hw1 and slack for instructions on how to setup your computer for developing using Python.**"
   ]
  },
  {
   "cell_type": "markdown",
   "metadata": {},
   "source": [
    "### Helpful Jupyter Commands\n",
    "\n",
    "Below are some useful commands to know when using Jupyter\n",
    "\n",
    "1. You can add a new cell by clicking on the \"+\" icon on top.\n",
    "2. You can delete a cell by selecting that cell and clicking on the \"scissors\" icon on top.\n",
    "3. You can execute a cell by either pressing shift+enter or selecting the \"play\" button on top.\n",
    "4. You can create a new file in Jupyter via the File menu->New Notebook option. Make sure to select Python 2 when creating your notebook.\n",
    "5. Also, for your code blocks make sure that Code is selected instead of another option like Markdown.\n",
    "6. Use the Enter key to go to the next line in a cell to enter the next statement.\n",
    "7. You can clear results by clicking on the Cell menu item and selecting Current Output->Clear or All Output->Clear depending on whether you are trying to just clear the output for one cell or for all cells.\n",
    "8. In case your program has crashed for some reason (infinite loop, for example), you can restart your Python session by select Kernel in the menu and selecting Restart.\n"
   ]
  },
  {
   "cell_type": "markdown",
   "metadata": {},
   "source": [
    "#### Check Python Version"
   ]
  },
  {
   "cell_type": "code",
   "execution_count": 1,
   "metadata": {},
   "outputs": [
    {
     "name": "stdout",
     "output_type": "stream",
     "text": [
      "Python 3.6.5 :: Anaconda, Inc.\r\n"
     ]
    }
   ],
   "source": [
    "!python --version"
   ]
  },
  {
   "cell_type": "markdown",
   "metadata": {},
   "source": [
    "#### Sample Exercises with conditionals and repetitions\n",
    "\n",
    "Refer to Week 5 classwork for sample exercises - \n",
    "\n",
    "https://github.com/cis024c/fall2017classwork/tree/master/week5"
   ]
  },
  {
   "cell_type": "markdown",
   "metadata": {},
   "source": [
    "**Exercise 1 - Testing your knowledge of files **\n",
    "\n",
    "Answer the below questions\n",
    "\n",
    "1. In your own words, describe what a **file** is?\n",
    "2. Why is it important to close a file after we are done using it?"
   ]
  },
  {
   "cell_type": "markdown",
   "metadata": {},
   "source": [
    "<< Double click this cell and enter your result >>\n",
    "\n",
    "2.) It is important to close a file after the program, because every computer has limited space."
   ]
  },
  {
   "cell_type": "markdown",
   "metadata": {},
   "source": [
    "#### Exercise 2 -  Write to a file\n",
    "\n",
    "Write a python program to write the below lines to a file\n",
    "\n",
    "- Name, Age, Gender, Profession\n",
    "- Harry, 23, Male, Software Engineer\n",
    "- Sam, 25, Male, Lawyer\n",
    "- Lisa, 29, Female, Computer Scientist\n",
    "- Mary, 22, Female, Doctor\n",
    "\n",
    "Below are a set of recommended steps to accomplish this\n",
    "1. open a file in write mode. This will return a handle to the file\n",
    "2. use the write method to write each line to the file using the file handle returned in the open call\n",
    "3. close the file when done\n",
    "\n",
    "Once done, go to the folder where the file is and open it to make sure that this is written.\n",
    "\n",
    "Refer to class exercises especially \"In [22]\" in https://github.com/cis024c/fall2017classwork/blob/master/week5/working_with_files.ipynb"
   ]
  },
  {
   "cell_type": "code",
   "execution_count": 59,
   "metadata": {},
   "outputs": [],
   "source": [
    "### YOUR CODE GOES \n",
    "textFile = open(\"Age_File.txt\",\"w\")\n",
    "textFile.write(\"Name, Age, Gender, Profession\\n\\\n",
    "Harry, 23, Male, Software Engineer\\n\\\n",
    "Sam, 25, Male, Lawyer\\n\\\n",
    "Lisa, 29,Female, Computer Scientist\\n\\\n",
    "Mary, 22, Female, Doctor\\n\")\n",
    "textFile.close()\n",
    "### END CODE"
   ]
  },
  {
   "cell_type": "markdown",
   "metadata": {},
   "source": [
    "#### Exercise 3 - Reading from a file\n",
    "\n",
    "Read and display the data from the file you had just written to.\n",
    "\n",
    "Below are a set of recommended steps to accomplish this\n",
    "1. open the file in read mode. This will return a handle to the file.\n",
    "2. You can now iterate through each line in the file  and then use readline to read each line.\n",
    "3. Display each line as you read it in\n",
    "\n",
    "Note that you can also use the **read** method to read in all lines or the **readlines** method to read all lines into a list."
   ]
  },
  {
   "cell_type": "code",
   "execution_count": 60,
   "metadata": {},
   "outputs": [
    {
     "name": "stdout",
     "output_type": "stream",
     "text": [
      "Name, Age, Gender, Profession\n",
      "\n",
      "Harry, 23, Male, Software Engineer\n",
      "\n",
      "Sam, 25, Male, Lawyer\n",
      "\n",
      "Lisa, 29,Female, Computer Scientist\n",
      "\n",
      "Mary, 22, Female, Doctor\n",
      "\n"
     ]
    }
   ],
   "source": [
    "### YOUR CODE GOES BELOW\n",
    "readFile = open(\"Age_File.txt\")\n",
    "lines = readFile.readlines()\n",
    "\n",
    "for line in range(len(lines)):\n",
    "    print(lines[line])\n",
    "readFile.close()\n",
    "### END CODE"
   ]
  },
  {
   "cell_type": "markdown",
   "metadata": {},
   "source": [
    "#### Exercise 4 - Finding the average age of users in a file\n",
    "\n",
    "Write a python program to find the average age of users in the file you just created.\n",
    "\n",
    "Below are a set of recommended steps to accomplish this\n",
    "1. Open the file in read mode\n",
    "2. Read in each line of the file\n",
    "3. Split each line in the file to get the age\n",
    "4. Find the average age and display it"
   ]
  },
  {
   "cell_type": "code",
   "execution_count": 61,
   "metadata": {},
   "outputs": [
    {
     "name": "stdout",
     "output_type": "stream",
     "text": [
      "The Average age: 24.75\n"
     ]
    }
   ],
   "source": [
    "### YOUR CODE GOES BELOW\n",
    "import string\n",
    "readFile = open(\"Age_File.txt\")\n",
    "\n",
    "l = readFile.readlines()\n",
    "total = 0\n",
    "#average = 0\n",
    "for line in range(len(l)):\n",
    "    if line == 0:\n",
    "        continue\n",
    "    else:\n",
    "        total = total + int(l[line].split(\",\")[1].strip(\" \"))\n",
    "average = total / (len(l) - 1)\n",
    "readFile.close()\n",
    "print(\"The Average age:\",average)\n",
    "### END CODE"
   ]
  },
  {
   "cell_type": "markdown",
   "metadata": {},
   "source": [
    "#### Exercise 5 - Appending to a file\n",
    "\n",
    "Write a python program to append information provided by users to an existing file. \n",
    "\n",
    "You will need to \n",
    "1.  ask the user to enter their name, age, gender and profession using the **raw_input** method (for Python 3 users, you will use the **input** method).\n",
    "2.  open the file you just created in the above exercies in append mode and write this information to the file.\n",
    "\n",
    "Remember to make sure that the information you append is entered in the same format where each field is separated by commas.\n",
    "\n"
   ]
  },
  {
   "cell_type": "code",
   "execution_count": 67,
   "metadata": {},
   "outputs": [
    {
     "name": "stdout",
     "output_type": "stream",
     "text": [
      "Please enter (name, age, gender, and profession): Alex, 18, Male, Student\n"
     ]
    }
   ],
   "source": [
    "### YOUR CODE GOES BELOW\n",
    "userInput = input(\"Please enter (name, age, gender, and profession): \")\n",
    "readFile = open(\"Age_File.txt\", \"a\")\n",
    "writeIn = userInput + \"\\n\"\n",
    "readFile.write(writeIn)\n",
    "readFile.close()\n",
    "### END CODE"
   ]
  },
  {
   "cell_type": "markdown",
   "metadata": {},
   "source": [
    "## OPTIONAL EXERCISES\n",
    "\n",
    "Below is a set of optional exercises. These will not be graded but the solutions will be posted. I would strongly encourage you to try these out if you are done with the mandatory homework exercises to improve your understanding of python."
   ]
  },
  {
   "cell_type": "markdown",
   "metadata": {},
   "source": [
    "#### NOTE \n",
    "\n",
    "For this program you will need to download the full text of Alice in Wonderland. This is available at this link http://www.gutenberg.org/files/11/11-0.txt\n",
    "\n",
    "For MAC users, you can download this directly from Jupyter by executing the below cell. Windows users might need to click on the link and download the file and save it to your computer. "
   ]
  },
  {
   "cell_type": "code",
   "execution_count": 6,
   "metadata": {},
   "outputs": [
    {
     "name": "stdout",
     "output_type": "stream",
     "text": [
      "  % Total    % Received % Xferd  Average Speed   Time    Time     Time  Current\n",
      "                                 Dload  Upload   Total   Spent    Left  Speed\n",
      "100  169k  100  169k    0     0   251k      0 --:--:-- --:--:-- --:--:--  251k\n"
     ]
    }
   ],
   "source": [
    "# download alice text\n",
    "!curl 'http://www.gutenberg.org/files/11/11-0.txt' -o aliceText.txt"
   ]
  },
  {
   "cell_type": "markdown",
   "metadata": {},
   "source": [
    "#### Exercise 6\n",
    "\n",
    "Write a program to read the file aliceText.txt and count the number of times that the word \"house\" occurs in the text."
   ]
  },
  {
   "cell_type": "code",
   "execution_count": 81,
   "metadata": {},
   "outputs": [
    {
     "name": "stdout",
     "output_type": "stream",
     "text": [
      "There are 29465 of word 'house' in the text\n"
     ]
    }
   ],
   "source": [
    "### YOUR CODE GOES BELOW\n",
    "readFile = open(\"Alice.txt\")\n",
    "counter = 0\n",
    "words = readFile.read().split()\n",
    "for word in words:\n",
    "    if \"house\" in words:\n",
    "        counter += 1\n",
    "print(\"There are %d of word 'house' in the text\"%(counter))\n",
    "readFile.close()\n",
    "### END CODE"
   ]
  },
  {
   "cell_type": "markdown",
   "metadata": {},
   "source": [
    "#### Exercise 7\n",
    "\n",
    "Write a python program to read the file aliceText.txt and find \n",
    "\n",
    "* the number of characters in the file\n",
    "* the number of words in the file\n",
    "* the number of lines in the file\n",
    "\n",
    "Display the result"
   ]
  },
  {
   "cell_type": "code",
   "execution_count": 10,
   "metadata": {},
   "outputs": [
    {
     "name": "stdout",
     "output_type": "stream",
     "text": [
      "Characters: 163810\n",
      "Words: 29465\n",
      "Lines: 3736\n"
     ]
    }
   ],
   "source": [
    "### YOUR CODE GOES BELOW\n",
    "fileR = open(\"Alice.txt\")\n",
    "lines = fileR.readlines()\n",
    "\n",
    "counter = 0\n",
    "for line in range(len(lines)):\n",
    "    for y in lines[line]:\n",
    "        counter += 1\n",
    "print(\"Characters:\",counter)\n",
    "counter = 0\n",
    "for line in range(len(lines)):\n",
    "    for x in lines[line].split():\n",
    "        counter += 1\n",
    "print(\"Words:\",counter)\n",
    "print(\"Lines:\",len(lines))\n",
    "fileR.close()\n",
    "### END CODE"
   ]
  },
  {
   "cell_type": "markdown",
   "metadata": {},
   "source": [
    "#### Exercise 8\n",
    "\n",
    "Write a Python program to read the file aliceText.txt and find the top 10 most frequent words in the file. Display the result\n",
    "\n",
    "Below are recommended steps for this program\n",
    "\n",
    "* Read the contents of the file\n",
    "* Initialize a dictionary to maintain the counts of each word\n",
    "* Loop through each word in the file\n",
    "    - If the word is new, then add to dictionary and initialize count to 1 for this word\n",
    "    - If the word is already in the dictionary, then increment the count of that word by 1\n",
    "* Use the **sorted** method to sort all values in descending order  - See the **example** code at the end of this assignment for an example on sorting a dictionary in reverse order by value"
   ]
  },
  {
   "cell_type": "code",
   "execution_count": 24,
   "metadata": {},
   "outputs": [
    {
     "name": "stdout",
     "output_type": "stream",
     "text": [
      "{'Project': 78, \"Gutenberg's\": 2, \"Alice's\": 11, 'Adventures': 4, 'in': 401, 'Wonderland,': 3, 'by': 72, 'Lewis': 4, 'Carroll': 4, 'This': 20, 'eBook': 5, 'is': 89, 'for': 146, 'the': 1664, 'use': 24, 'of': 596, 'anyone': 4, 'anywhere': 3, 'at': 211, 'no': 72, 'cost': 3, 'and': 780, 'with': 214, 'almost': 8, 'restrictions': 2, 'whatsoever.': 2, 'You': 18, 'may': 26, 'copy': 8, 'it,': 41, 'give': 12, 'it': 356, 'away': 17, 'or': 137, 're-use': 2, 'under': 21, 'terms': 20, 'Gutenberg': 19, 'License': 8, 'included': 2, 'this': 122, 'online': 4, 'www.gutenberg.org': 2, 'Title:': 1, 'Wonderland': 2, 'Author:': 1, 'Posting': 1, 'Date:': 2, 'June': 1, '25,': 1, '2008': 1, '[EBook': 1, '#11]': 1, 'Release': 1, 'March,': 2, '1994': 1, '[Last': 1, 'updated:': 1, 'December': 1, '20,': 1, '2011]': 1, 'Language:': 1, 'English': 2, 'Character': 1, 'set': 23, 'encoding:': 1, 'ASCII': 1, '***': 6, 'START': 1, 'OF': 13, 'THIS': 8, 'PROJECT': 4, 'GUTENBERG': 3, 'EBOOK': 2, \"ALICE'S\": 5, 'ADVENTURES': 3, 'IN': 5, 'WONDERLAND': 3, 'THE': 13, 'MILLENNIUM': 1, 'FULCRUM': 1, 'EDITION': 1, '3.0': 1, 'CHAPTER': 12, 'I.': 1, 'Down': 1, 'Rabbit-Hole': 1, 'Alice': 221, 'was': 329, 'beginning': 12, 'to': 773, 'get': 43, 'very': 127, 'tired': 7, 'sitting': 10, 'her': 203, 'sister': 5, 'on': 148, 'bank,': 2, 'having': 10, 'nothing': 22, 'do:': 1, 'once': 18, 'twice': 1, 'she': 484, 'had': 175, 'peeped': 3, 'into': 67, 'book': 3, 'reading,': 1, 'but': 105, 'pictures': 4, 'conversations': 1, \"'and\": 38, 'what': 86, 'a': 662, \"book,'\": 2, 'thought': 63, \"'without\": 1, \"conversations?'\": 1, 'So': 23, 'considering': 3, 'own': 9, 'mind': 4, '(as': 2, 'well': 27, 'as': 246, 'could,': 7, 'hot': 4, 'day': 11, 'made': 29, 'feel': 8, 'sleepy': 3, 'stupid),': 1, 'whether': 11, 'pleasure': 2, 'making': 8, 'daisy-chain': 1, 'would': 68, 'be': 154, 'worth': 4, 'trouble': 4, 'getting': 21, 'up': 83, 'picking': 2, 'daisies,': 1, 'when': 67, 'suddenly': 9, 'White': 22, 'Rabbit': 29, 'pink': 1, 'eyes': 18, 'ran': 13, 'close': 12, 'her.': 13, 'There': 21, 'so': 104, 'VERY': 12, 'remarkable': 2, 'that;': 1, 'nor': 2, 'did': 50, 'think': 37, 'much': 41, 'out': 97, 'way': 39, 'hear': 15, 'say': 35, 'itself,': 4, \"'Oh\": 2, 'dear!': 9, 'Oh': 5, 'I': 260, 'shall': 23, \"late!'\": 1, '(when': 1, 'over': 31, 'afterwards,': 1, 'occurred': 2, 'that': 226, 'ought': 13, 'have': 77, 'wondered': 1, 'this,': 17, 'time': 46, 'all': 168, 'seemed': 27, 'quite': 53, 'natural);': 1, 'actually': 1, 'TOOK': 1, 'A': 8, 'WATCH': 1, 'OUT': 1, 'ITS': 1, 'WAISTCOAT-POCKET,': 1, 'looked': 45, 'then': 50, 'hurried': 11, 'on,': 28, 'started': 2, 'feet,': 6, 'flashed': 1, 'across': 5, 'never': 37, 'before': 20, 'seen': 12, 'rabbit': 1, 'either': 6, 'waistcoat-pocket,': 1, 'watch': 5, 'take': 18, 'burning': 1, 'curiosity,': 2, 'field': 1, 'after': 35, 'fortunately': 1, 'just': 43, 'see': 48, 'pop': 1, 'down': 77, 'large': 32, 'rabbit-hole': 2, 'hedge.': 1, 'In': 6, 'another': 21, 'moment': 21, 'went': 79, 'how': 41, 'world': 6, 'again.': 16, 'The': 100, 'straight': 2, 'like': 74, 'tunnel': 1, 'some': 47, 'way,': 7, 'dipped': 2, 'down,': 12, 'not': 122, 'about': 91, 'stopping': 1, 'herself': 40, 'found': 31, 'falling': 2, 'deep': 5, 'well.': 2, 'Either': 1, 'deep,': 2, 'fell': 6, 'slowly,': 2, 'plenty': 1, 'look': 25, 'wonder': 15, 'going': 26, 'happen': 5, 'next.': 3, 'First,': 4, 'tried': 18, 'make': 29, 'coming': 5, 'to,': 7, 'too': 21, 'dark': 3, 'anything;': 2, 'sides': 4, 'well,': 1, 'noticed': 7, 'they': 109, 'were': 82, 'filled': 3, 'cupboards': 2, 'book-shelves;': 1, 'here': 14, 'there': 44, 'saw': 13, 'maps': 1, 'hung': 1, 'upon': 28, 'pegs.': 1, 'She': 33, 'took': 23, 'jar': 2, 'from': 45, 'one': 78, 'shelves': 1, 'passed;': 1, 'labelled': 1, \"'ORANGE\": 1, \"MARMALADE',\": 1, 'great': 39, 'disappointment': 1, 'empty:': 1, 'drop': 1, 'fear': 4, 'killing': 1, 'somebody,': 1, 'managed': 3, 'put': 31, 'past': 1, 'it.': 15, \"'Well!'\": 1, 'herself,': 31, \"'after\": 1, 'such': 45, 'fall': 6, 'tumbling': 2, 'stairs!': 1, 'How': 9, 'brave': 1, \"they'll\": 4, 'me': 46, 'home!': 1, 'Why,': 7, \"wouldn't\": 12, 'anything': 15, 'even': 18, 'if': 73, 'off': 38, 'top': 8, \"house!'\": 1, '(Which': 2, 'likely': 4, 'true.)': 1, 'Down,': 2, 'down.': 2, 'Would': 3, 'NEVER': 2, 'come': 22, 'an': 56, 'end!': 1, \"'I\": 121, 'many': 13, 'miles': 3, \"I've\": 20, 'fallen': 4, \"time?'\": 1, 'said': 416, 'aloud.': 3, 'must': 48, 'somewhere': 1, 'near': 13, 'centre': 1, 'earth.': 2, 'Let': 6, 'see:': 3, 'four': 6, 'thousand': 2, \"think--'\": 3, '(for,': 1, 'you': 301, 'see,': 11, 'learnt': 2, 'several': 5, 'things': 21, 'sort': 17, 'lessons': 4, 'schoolroom,': 1, 'though': 6, 'good': 23, 'opportunity': 9, 'showing': 2, 'knowledge,': 1, 'listen': 4, 'her,': 18, 'still': 12, 'practice': 1, 'over)': 1, \"'--yes,\": 1, \"that's\": 13, 'right': 22, 'distance--but': 1, 'Latitude': 2, 'Longitude': 2, 'got': 45, \"to?'\": 3, '(Alice': 4, 'idea': 14, 'was,': 14, 'either,': 2, 'nice': 5, 'grand': 2, 'words': 14, 'say.)': 1, 'Presently': 2, 'began': 47, 'THROUGH': 1, 'earth!': 1, 'funny': 3, \"it'll\": 6, 'seem': 7, 'among': 12, 'people': 13, 'walk': 4, 'their': 50, 'heads': 7, 'downward!': 1, 'Antipathies,': 1, '(she': 9, 'rather': 25, 'glad': 11, 'WAS': 4, 'listening,': 2, 'time,': 6, \"didn't\": 11, 'sound': 3, 'word)': 1, \"'--but\": 1, 'ask': 7, 'them': 49, 'name': 9, 'country': 3, 'is,': 16, 'know.': 8, 'Please,': 1, \"Ma'am,\": 1, 'New': 1, 'Zealand': 1, \"Australia?'\": 1, '(and': 2, 'curtsey': 1, 'spoke--fancy': 1, 'CURTSEYING': 1, \"you're\": 15, 'through': 14, 'air!': 1, 'Do': 8, 'could': 63, 'manage': 6, 'it?)': 1, \"'And\": 17, 'ignorant': 1, 'little': 117, 'girl': 3, \"she'll\": 2, 'asking!': 1, 'No,': 4, 'do': 60, 'ask:': 1, 'perhaps': 12, 'written': 9, \"somewhere.'\": 1, 'else': 8, 'do,': 7, 'soon': 23, 'talking': 12, \"'Dinah'll\": 1, 'miss': 1, 'to-night,': 1, 'should': 29, \"think!'\": 1, '(Dinah': 1, 'cat.)': 1, 'hope': 4, 'remember': 12, 'saucer': 1, 'milk': 1, 'tea-time.': 1, 'Dinah': 4, 'my': 55, 'wish': 22, 'me!': 3, 'are': 54, 'mice': 3, 'air,': 5, \"I'm\": 36, 'afraid,': 2, 'might': 27, 'catch': 3, 'bat,': 1, 'mouse,': 3, 'But': 15, 'cats': 9, 'eat': 16, 'bats,': 1, \"wonder?'\": 3, 'And': 49, 'sleepy,': 1, 'saying': 11, 'dreamy': 1, \"'Do\": 8, 'bats?': 1, \"bats?'\": 1, 'sometimes,': 1, 'bats': 1, \"cats?'\": 1, 'for,': 2, \"couldn't\": 9, 'answer': 6, 'question,': 4, 'matter': 8, 'which': 44, 'felt': 23, 'dozing': 1, 'off,': 14, 'begun': 6, 'dream': 3, 'walking': 5, 'hand': 11, 'Dinah,': 3, 'earnestly,': 1, \"'Now,\": 4, 'tell': 26, 'truth:': 1, 'ever': 16, \"bat?'\": 1, 'suddenly,': 1, 'thump!': 2, 'came': 38, 'heap': 1, 'sticks': 1, 'dry': 7, 'leaves,': 2, 'over.': 2, 'bit': 8, 'hurt,': 1, 'jumped': 5, 'feet': 11, 'moment:': 1, 'up,': 10, 'overhead;': 1, 'long': 30, 'passage,': 2, 'sight,': 4, 'hurrying': 1, 'lost:': 1, 'wind,': 2, 'say,': 5, 'turned': 16, 'corner,': 2, 'ears': 4, 'whiskers,': 1, 'late': 3, \"it's\": 25, \"getting!'\": 1, 'behind': 12, 'longer': 2, 'seen:': 1, 'long,': 1, 'low': 7, 'hall,': 5, 'lit': 1, 'row': 2, 'lamps': 1, 'hanging': 3, 'roof.': 1, 'doors': 2, 'round': 30, 'locked;': 1, 'been': 36, 'side': 12, 'other,': 5, 'trying': 11, 'every': 12, 'door,': 9, 'walked': 10, 'sadly': 2, 'middle,': 3, 'wondering': 7, 'Suddenly': 1, 'three-legged': 2, 'table,': 5, 'solid': 1, 'glass;': 1, 'except': 4, 'tiny': 4, 'golden': 7, 'key,': 3, 'first': 28, 'belong': 1, 'hall;': 1, 'but,': 6, 'alas!': 2, 'locks': 1, 'large,': 1, 'key': 5, 'small,': 1, 'any': 67, 'rate': 4, 'open': 6, 'them.': 2, 'However,': 14, 'second': 6, 'round,': 7, 'curtain': 1, 'before,': 11, 'door': 15, 'fifteen': 1, 'inches': 6, 'high:': 3, 'lock,': 1, 'delight': 1, 'fitted!': 1, 'opened': 9, 'led': 4, 'small': 10, 'larger': 3, 'than': 24, 'rat-hole:': 1, 'knelt': 1, 'along': 5, 'passage': 1, 'loveliest': 1, 'garden': 4, 'saw.': 1, 'longed': 2, 'wander': 1, 'those': 9, 'beds': 1, 'bright': 7, 'flowers': 2, 'cool': 2, 'fountains,': 1, 'head': 29, 'doorway;': 1, 'go': 38, \"through,'\": 1, 'poor': 25, 'Alice,': 76, \"'it\": 5, 'without': 32, 'shoulders.': 1, 'Oh,': 3, 'shut': 4, 'telescope!': 1, 'only': 45, 'knew': 13, \"begin.'\": 3, 'For,': 1, 'out-of-the-way': 3, 'happened': 3, 'lately,': 1, 'few': 10, 'indeed': 3, 'really': 9, 'impossible.': 1, 'waiting': 7, 'back': 29, 'half': 21, 'hoping': 3, 'find': 20, 'rules': 4, 'shutting': 2, 'telescopes:': 1, 'bottle': 7, \"('which\": 1, 'certainly': 8, \"before,'\": 3, 'Alice,)': 2, 'neck': 6, 'paper': 4, 'label,': 1, \"'DRINK\": 2, \"ME'\": 2, 'beautifully': 2, 'printed': 3, 'letters.': 1, 'It': 17, \"'Drink\": 1, \"me,'\": 5, 'wise': 2, 'THAT': 8, 'hurry.': 3, \"'No,\": 9, \"I'll\": 23, \"first,'\": 2, 'said,': 26, 'marked': 7, '\"poison\"': 1, \"not';\": 1, 'read': 10, 'histories': 1, 'children': 5, 'who': 51, 'burnt,': 1, 'eaten': 1, 'wild': 2, 'beasts': 1, 'other': 39, 'unpleasant': 2, 'things,': 2, 'because': 12, 'WOULD': 5, 'simple': 5, 'friends': 2, 'taught': 4, 'them:': 1, 'as,': 3, 'red-hot': 1, 'poker': 1, 'will': 29, 'burn': 2, 'hold': 7, 'long;': 1, 'cut': 5, 'your': 62, 'finger': 3, 'deeply': 1, 'knife,': 1, 'usually': 2, 'bleeds;': 1, 'forgotten': 6, 'that,': 5, 'drink': 4, \"'poison,'\": 2, 'certain': 4, 'disagree': 1, 'you,': 25, 'sooner': 2, 'later.': 1, 'NOT': 7, 'ventured': 4, 'taste': 2, 'finding': 3, 'nice,': 1, '(it': 4, 'had,': 1, 'fact,': 4, 'mixed': 2, 'flavour': 1, 'cherry-tart,': 1, 'custard,': 1, 'pine-apple,': 1, 'roast': 1, 'turkey,': 1, 'toffee,': 1, 'buttered': 1, 'toast,)': 1, 'finished': 7, 'off.': 5, '*': 60, \"'What\": 32, 'curious': 16, \"feeling!'\": 1, 'Alice;': 16, \"telescope.'\": 1, 'indeed:': 1, 'now': 23, 'ten': 5, 'high,': 3, 'face': 7, 'brightened': 2, 'size': 6, 'lovely': 2, 'garden.': 3, 'however,': 6, 'waited': 9, 'minutes': 7, 'shrink': 1, 'further:': 1, 'nervous': 4, 'this;': 2, \"'for\": 6, 'end,': 1, \"know,'\": 8, \"'in\": 3, 'altogether,': 2, 'candle.': 1, \"then?'\": 1, 'fancy': 3, 'flame': 1, 'candle': 2, 'blown': 1, 'out,': 13, 'thing.': 1, 'After': 5, 'while,': 4, 'more': 38, 'happened,': 2, 'decided': 3, 'once;': 1, 'alas': 1, 'Alice!': 3, 'table': 7, 'possibly': 3, 'reach': 4, 'it:': 9, 'plainly': 1, 'glass,': 2, 'best': 7, 'climb': 1, 'legs': 3, 'slippery;': 1, 'trying,': 1, 'thing': 35, 'sat': 17, 'cried.': 2, \"'Come,\": 9, \"there's\": 15, 'crying': 2, \"that!'\": 7, 'sharply;': 1, 'advise': 1, 'leave': 6, \"minute!'\": 1, 'generally': 5, 'gave': 13, 'advice,': 1, '(though': 1, 'seldom': 1, 'followed': 8, 'it),': 2, 'sometimes': 4, 'scolded': 1, 'severely': 3, 'bring': 2, 'tears': 4, 'eyes;': 1, 'remembered': 5, 'box': 3, 'cheated': 1, 'game': 6, 'croquet': 3, 'playing': 2, 'against': 10, 'child': 3, 'fond': 3, 'pretending': 1, 'two': 20, 'people.': 1, \"'But\": 19, \"now,'\": 4, \"'to\": 4, 'pretend': 1, 'people!': 1, 'hardly': 11, 'enough': 10, 'left': 13, 'ONE': 2, 'respectable': 1, \"person!'\": 1, 'Soon': 1, 'eye': 4, 'glass': 4, 'lying': 8, 'table:': 1, 'cake,': 2, \"'EAT\": 1, 'currants.': 1, \"'Well,\": 20, \"it,'\": 18, 'makes': 12, 'grow': 13, 'larger,': 3, 'can': 37, 'key;': 1, 'smaller,': 3, 'creep': 1, 'door;': 1, 'garden,': 5, \"don't\": 48, 'care': 4, \"happens!'\": 1, 'ate': 1, 'bit,': 2, 'anxiously': 13, \"'Which\": 3, 'way?': 1, 'Which': 3, \"way?',\": 1, 'holding': 2, 'growing,': 4, 'surprised': 6, 'remained': 3, 'same': 22, 'size:': 3, 'sure,': 2, 'happens': 2, 'eats': 1, 'expecting': 3, 'happen,': 1, 'dull': 2, 'stupid': 1, 'life': 2, 'common': 1, 'way.': 3, 'work,': 8, 'cake.': 1, 'II.': 1, 'Pool': 1, 'Tears': 1, \"'Curiouser\": 1, \"curiouser!'\": 1, 'cried': 18, 'surprised,': 1, 'forgot': 2, 'speak': 8, 'English);': 1, \"'now\": 1, 'opening': 3, 'largest': 1, 'telescope': 1, 'was!': 1, 'Good-bye,': 1, \"feet!'\": 1, '(for': 1, 'far': 9, 'off).': 1, \"'Oh,\": 19, 'shoes': 5, 'stockings': 1, 'now,': 6, 'dears?': 1, 'sure': 16, '_I_': 2, \"shan't\": 4, 'able!': 1, 'deal': 11, 'myself': 2, 'you:': 1, 'can;--but': 1, 'kind': 6, \"them,'\": 3, \"'or\": 5, \"won't\": 21, 'want': 9, 'go!': 1, 'new': 7, 'pair': 5, 'boots': 2, \"Christmas.'\": 1, 'planning': 1, \"'They\": 9, \"carrier,'\": 1, 'thought;': 1, 'seem,': 1, 'sending': 3, 'presents': 2, \"one's\": 1, 'feet!': 1, 'odd': 1, 'directions': 1, 'look!': 1, 'RIGHT': 2, 'FOOT,': 1, 'ESQ.': 1, 'HEARTHRUG,': 1, 'NEAR': 1, 'FENDER,': 1, '(WITH': 1, 'LOVE).': 1, 'dear,': 6, 'nonsense': 1, \"talking!'\": 1, 'Just': 5, 'struck': 2, 'roof': 5, 'hall:': 1, 'fact': 2, 'nine': 4, 'door.': 2, 'Poor': 1, 'side,': 3, 'eye;': 2, 'hopeless': 1, 'ever:': 1, 'cry': 3, \"'You\": 30, 'ashamed': 2, \"yourself,'\": 1, \"'a\": 2, \"you,'\": 6, 'this),': 1, 'way!': 1, 'Stop': 1, 'moment,': 5, \"you!'\": 3, 'same,': 2, 'shedding': 1, 'gallons': 1, 'tears,': 3, 'until': 4, 'pool': 6, 'reaching': 2, 'hall.': 1, 'heard': 29, 'pattering': 3, 'distance,': 4, 'hastily': 7, 'dried': 1, 'coming.': 2, 'returning,': 1, 'splendidly': 1, 'dressed,': 1, 'white': 6, 'kid': 5, 'gloves': 5, 'fan': 8, 'other:': 3, 'he': 96, 'trotting': 2, 'hurry,': 1, 'muttering': 3, 'himself': 4, 'came,': 2, \"'Oh!\": 2, 'Duchess,': 8, 'Duchess!': 3, 'Oh!': 1, 'savage': 3, 'kept': 13, \"waiting!'\": 1, 'desperate': 1, 'ready': 7, 'help': 11, 'one;': 2, 'so,': 7, 'began,': 6, 'low,': 6, 'timid': 3, 'voice,': 15, \"'If\": 13, 'please,': 3, \"sir--'\": 1, 'violently,': 2, 'dropped': 4, 'fan,': 1, 'skurried': 1, 'darkness': 1, 'hard': 8, 'go.': 1, 'gloves,': 3, 'and,': 19, 'hall': 1, 'hot,': 1, 'fanning': 1, 'talking:': 1, \"'Dear,\": 1, 'queer': 9, 'everything': 9, 'to-day!': 1, 'yesterday': 2, 'usual.': 2, 'changed': 7, 'night?': 1, 'think:': 1, 'morning?': 1, 'feeling': 6, 'different.': 1, 'next': 20, 'question': 7, 'Who': 6, 'am': 13, 'I?': 1, 'Ah,': 1, \"THAT'S\": 3, \"puzzle!'\": 1, 'thinking': 10, 'age': 2, \"'I'm\": 19, \"Ada,'\": 1, 'hair': 5, 'goes': 7, 'ringlets,': 1, 'mine': 3, \"doesn't\": 16, 'ringlets': 1, 'all;': 2, \"can't\": 27, 'Mabel,': 2, 'know': 45, 'sorts': 3, 'she,': 4, 'oh!': 2, 'knows': 2, 'little!': 1, 'Besides,': 1, \"SHE'S\": 1, 'I,': 1, 'and--oh': 2, 'puzzling': 4, 'is!': 1, 'try': 12, 'used': 15, 'times': 6, 'five': 1, 'twelve,': 1, 'six': 2, 'thirteen,': 1, 'seven': 1, 'is--oh': 1, 'twenty': 1, 'rate!': 1, 'Multiplication': 1, 'Table': 1, 'signify:': 1, \"let's\": 3, 'Geography.': 1, 'London': 1, 'capital': 4, 'Paris,': 1, 'Paris': 1, 'Rome,': 1, 'Rome--no,': 1, 'wrong,': 2, 'certain!': 1, 'Mabel!': 1, '\"How': 1, 'doth': 2, 'little--\"\\'': 1, 'crossed': 3, 'hands': 6, 'lap': 2, 'lessons,': 1, 'repeat': 6, 'voice': 17, 'sounded': 5, 'hoarse': 2, 'strange,': 1, 'do:--': 1, \"'How\": 15, 'crocodile': 1, 'Improve': 1, 'his': 93, 'shining': 1, 'tail,': 3, 'pour': 1, 'waters': 1, 'Nile': 1, 'On': 4, 'scale!': 1, 'cheerfully': 1, 'seems': 4, 'grin,': 3, 'neatly': 2, 'spread': 4, 'claws,': 1, 'welcome': 1, 'fishes': 1, 'With': 2, 'gently': 3, 'smiling': 2, \"jaws!'\": 1, \"words,'\": 1, 'again': 13, 'Mabel': 1, 'all,': 3, 'live': 7, 'poky': 1, 'house,': 9, 'toys': 1, 'play': 8, 'with,': 1, 'learn!': 2, 'it;': 9, 'stay': 4, 'here!': 2, \"It'll\": 1, 'putting': 3, '\"Come': 1, 'again,': 31, 'dear!\"': 1, '\"Who': 1, 'then?': 1, 'Tell': 3, 'first,': 7, 'then,': 6, 'being': 19, 'person,': 1, 'up:': 1, 'not,': 9, 'till': 19, 'somebody': 3, 'else\"--but,': 1, 'oh': 1, \"dear!'\": 3, 'sudden': 5, 'burst': 1, 'down!': 2, 'alone': 3, \"here!'\": 1, 'As': 12, 'hands,': 5, \"Rabbit's\": 3, 'while': 15, 'talking.': 2, 'CAN': 4, 'done': 10, \"that?'\": 6, 'thought.': 2, 'growing': 6, \"again.'\": 2, 'measure': 1, 'nearly': 11, 'guess,': 1, 'shrinking': 4, 'rapidly:': 1, 'cause': 3, 'holding,': 1, 'hastily,': 4, 'avoid': 1, 'altogether.': 1, \"'That\": 6, 'narrow': 1, \"escape!'\": 1, 'frightened': 7, 'change,': 2, 'existence;': 1, \"garden!'\": 1, 'speed': 1, 'door:': 1, 'worse': 2, \"ever,'\": 2, 'child,': 1, 'never!': 1, 'declare': 1, 'bad,': 1, \"is!'\": 3, 'these': 14, 'foot': 5, 'slipped,': 1, 'splash!': 1, 'chin': 4, 'salt': 2, 'water.': 1, 'Her': 3, 'somehow': 1, 'sea,': 3, 'case': 4, \"railway,'\": 1, 'herself.': 8, 'seaside': 1, 'life,': 2, 'general': 3, 'conclusion,': 1, 'wherever': 2, 'coast': 1, 'number': 7, 'bathing': 1, 'machines': 1, 'digging': 2, 'sand': 1, 'wooden': 1, 'spades,': 1, 'lodging': 1, 'houses,': 1, 'railway': 1, 'station.)': 1, 'wept': 1, 'high.': 3, \"hadn't\": 7, \"much!'\": 2, 'swam': 5, 'about,': 6, 'out.': 2, 'punished': 1, 'suppose,': 1, 'drowned': 1, 'tears!': 1, 'That': 3, 'WILL': 4, 'thing,': 4, 'sure!': 1, \"to-day.'\": 1, 'something': 14, 'splashing': 2, 'nearer': 4, 'was:': 2, 'walrus': 1, 'hippopotamus,': 1, 'mouse': 3, 'slipped': 2, \"'Would\": 5, 'use,': 2, 'mouse?': 1, 'Everything': 1, 'here,': 6, 'talk:': 1, 'rate,': 2, 'harm': 1, \"trying.'\": 1, 'began:': 1, \"'O\": 1, 'Mouse,': 8, 'pool?': 1, 'swimming': 2, 'O': 1, \"Mouse!'\": 1, 'speaking': 2, 'mouse:': 1, \"brother's\": 1, 'Latin': 1, 'Grammar,': 1, \"'A\": 9, 'mouse--of': 1, 'mouse--to': 1, 'mouse--a': 1, 'mouse--O': 1, \"mouse!')\": 1, 'Mouse': 17, 'inquisitively,': 1, 'wink': 2, 'its': 60, 'eyes,': 5, 'nothing.': 3, \"'Perhaps\": 3, 'understand': 5, \"English,'\": 1, 'daresay': 1, 'French': 3, 'William': 3, \"Conqueror.'\": 1, '(For,': 1, 'knowledge': 1, 'history,': 4, 'clear': 2, 'notion': 3, 'ago': 1, 'happened.)': 1, 'again:': 4, \"'Ou\": 1, 'est': 1, 'ma': 1, \"chatte?'\": 1, 'sentence': 6, 'lesson-book.': 1, 'leap': 1, 'water,': 1, 'quiver': 1, 'fright.': 1, 'beg': 7, \"pardon!'\": 4, 'afraid': 9, 'hurt': 2, \"animal's\": 1, 'feelings.': 1, \"cats.'\": 1, \"'Not\": 9, \"cats!'\": 1, 'shrill,': 2, 'passionate': 1, 'voice.': 10, 'YOU': 13, \"me?'\": 2, \"not,'\": 6, 'soothing': 1, 'tone:': 5, \"'don't\": 2, 'angry': 3, 'yet': 6, 'show': 3, 'our': 11, 'cat': 7, 'Dinah:': 1, \"you'd\": 8, 'dear': 6, 'quiet': 2, \"thing,'\": 3, 'lazily': 1, 'pool,': 2, 'sits': 1, 'purring': 1, 'nicely': 2, 'fire,': 3, 'licking': 1, 'paws': 2, 'washing': 1, 'face--and': 1, 'soft': 1, 'nurse--and': 1, \"she's\": 3, 'catching': 2, 'mice--oh,': 1, 'bristling': 1, 'over,': 2, 'offended.': 1, \"'We\": 8, 'talk': 10, \"not.'\": 2, \"indeed!'\": 6, 'trembling': 6, 'end': 12, 'tail.': 2, \"'As\": 3, 'subject!': 1, 'Our': 1, 'family': 1, 'always': 11, 'HATED': 1, 'cats:': 1, 'nasty,': 1, 'vulgar': 1, 'things!': 1, \"Don't\": 4, 'let': 7, \"again!'\": 7, 'hurry': 4, 'change': 9, 'subject': 3, 'conversation.': 5, \"'Are\": 4, 'you--are': 1, 'fond--of--of': 1, \"dogs?'\": 1, 'answer,': 1, 'eagerly:': 1, \"'There\": 4, 'dog': 2, 'house': 8, 'you!': 2, 'bright-eyed': 1, 'terrier,': 1, 'know,': 7, 'oh,': 3, 'curly': 1, 'brown': 1, 'hair!': 1, 'fetch': 5, 'throw': 3, 'them,': 21, 'sit': 5, 'dinner,': 1, 'things--I': 1, 'them--and': 2, 'belongs': 2, 'farmer,': 1, 'says': 4, 'useful,': 2, 'hundred': 1, 'pounds!': 1, 'He': 14, 'kills': 1, 'rats': 1, 'sorrowful': 2, 'tone,': 16, 'offended': 7, 'For': 12, 'go,': 4, 'commotion': 1, 'went.': 2, 'called': 15, 'softly': 1, \"'Mouse\": 1, 'we': 23, 'dogs': 1, \"them!'\": 5, 'When': 7, 'slowly': 6, 'her:': 5, 'pale': 2, '(with': 1, 'passion,': 2, 'thought),': 1, \"'Let\": 3, 'us': 10, 'shore,': 2, \"you'll\": 4, 'why': 7, 'hate': 1, \"dogs.'\": 1, 'high': 3, 'crowded': 5, 'birds': 7, 'animals': 3, 'Duck': 1, 'Dodo,': 3, 'Lory': 3, 'Eaglet,': 1, 'creatures.': 1, 'whole': 13, 'party': 8, 'shore.': 1, 'III.': 1, 'Caucus-Race': 1, 'Long': 1, 'Tale': 1, 'They': 10, 'queer-looking': 1, 'assembled': 2, 'bank--the': 1, 'draggled': 1, 'feathers,': 1, 'fur': 2, 'clinging': 1, 'dripping': 1, 'wet,': 1, 'cross,': 1, 'uncomfortable.': 2, 'course': 11, 'consultation': 1, 'natural': 3, 'familiarly': 1, 'known': 1, 'life.': 3, 'Indeed,': 1, 'argument': 4, 'Lory,': 3, 'last': 25, 'sulky,': 1, 'older': 2, \"better';\": 1, 'allow': 2, 'knowing': 2, 'old': 14, 'positively': 1, 'refused': 1, 'age,': 2, 'said.': 4, 'At': 8, 'person': 6, 'authority': 2, \"'Sit\": 1, \"I'LL\": 1, \"enough!'\": 1, 'once,': 5, 'ring,': 2, 'middle.': 1, 'fixed': 1, 'bad': 1, 'cold': 1, 'soon.': 1, \"'Ahem!'\": 1, 'important': 4, \"'are\": 2, 'ready?': 1, 'driest': 1, 'Silence': 1, 'please!': 1, '\"William': 1, 'Conqueror,': 1, 'whose': 2, 'favoured': 1, 'pope,': 1, 'submitted': 1, 'English,': 1, 'wanted': 4, 'leaders,': 1, 'accustomed': 1, 'usurpation': 1, 'conquest.': 1, 'Edwin': 1, 'Morcar,': 2, 'earls': 2, 'Mercia': 2, 'Northumbria--\"\\'': 1, \"'Ugh!'\": 1, 'shiver.': 1, 'frowning,': 1, 'politely:': 1, \"'Did\": 3, \"speak?'\": 1, \"I!'\": 2, 'hastily.': 4, \"did,'\": 3, 'Mouse.': 2, \"'--I\": 1, 'proceed.': 1, '\"Edwin': 1, 'Northumbria,': 1, 'declared': 1, 'him:': 3, 'Stigand,': 1, 'patriotic': 1, 'archbishop': 2, 'Canterbury,': 1, 'advisable--\"\\'': 1, \"'Found\": 2, \"WHAT?'\": 3, 'Duck.': 1, \"IT,'\": 1, 'replied': 14, 'crossly:': 1, \"'of\": 1, '\"it\"': 2, \"means.'\": 1, 'means': 5, 'enough,': 2, 'Duck:': 1, \"'it's\": 8, 'frog': 1, 'worm.': 1, \"find?'\": 1, 'notice': 7, 'hurriedly': 2, '\\'\"--found': 1, 'advisable': 1, 'Edgar': 1, 'Atheling': 1, 'meet': 3, 'offer': 2, 'him': 21, 'crown.': 1, \"William's\": 1, 'conduct': 1, 'moderate.': 1, 'insolence': 1, 'Normans--\"': 1, \"dear?'\": 1, 'continued,': 2, 'turning': 12, 'spoke.': 6, 'wet': 1, 'melancholy': 6, \"all.'\": 2, \"'In\": 5, \"case,'\": 1, 'Dodo': 9, 'solemnly,': 1, 'rising': 1, 'move': 2, 'meeting': 1, 'adjourn,': 1, 'immediate': 3, 'adoption': 1, 'energetic': 1, \"remedies--'\": 1, \"'Speak\": 2, \"English!'\": 1, 'Eaglet.': 1, 'meaning': 7, 'words,': 1, \"what's\": 2, 'more,': 4, 'believe': 8, \"either!'\": 1, 'Eaglet': 1, 'bent': 1, 'hide': 1, 'smile:': 1, 'tittered': 1, 'audibly.': 1, \"say,'\": 4, \"'was,\": 1, \"Caucus-race.'\": 1, 'IS': 8, \"Caucus-race?'\": 1, 'paused': 1, 'SOMEBODY': 1, 'speak,': 2, 'inclined': 1, 'anything.': 1, \"'Why,'\": 2, \"'the\": 5, 'explain': 8, \"it.'\": 9, '(And,': 1, 'yourself,': 1, 'winter': 1, 'day,': 4, 'it.)': 2, 'First': 2, 'race-course,': 1, 'circle,': 1, \"('the\": 1, 'exact': 1, 'shape': 1, \"matter,'\": 1, 'said,)': 1, 'placed': 1, 'course,': 6, 'there.': 2, \"'One,\": 2, 'two,': 9, 'three,': 1, \"away,'\": 1, 'running': 8, 'liked,': 2, 'easy': 2, 'race': 2, 'hour': 2, \"'The\": 15, \"over!'\": 3, 'panting,': 2, 'asking,': 1, 'has': 8, \"won?'\": 1, 'thought,': 6, 'pressed': 3, 'forehead': 2, '(the': 1, 'position': 2, 'Shakespeare,': 1, 'him),': 1, 'rest': 9, 'silence.': 5, \"'EVERYBODY\": 1, 'won,': 1, \"prizes.'\": 1, \"prizes?'\": 1, 'chorus': 2, 'voices': 2, 'asked.': 8, \"'Why,\": 8, 'SHE,': 1, \"course,'\": 5, 'pointing': 3, 'finger;': 1, 'calling': 1, 'confused': 3, \"'Prizes!\": 1, \"Prizes!'\": 1, 'despair': 1, 'pocket,': 2, 'pulled': 1, 'comfits,': 1, '(luckily': 1, 'water': 2, 'handed': 3, 'prizes.': 1, 'exactly': 5, 'a-piece': 1, 'round.': 3, 'prize': 1, \"'Of\": 11, 'gravely.': 1, \"pocket?'\": 1, 'Alice.': 54, \"'Only\": 2, \"thimble,'\": 1, 'sadly.': 2, \"'Hand\": 1, \"here,'\": 5, 'Dodo.': 1, 'Then': 9, 'solemnly': 2, 'presented': 1, 'thimble,': 2, 'acceptance': 1, 'elegant': 1, \"thimble';\": 1, 'short': 4, 'speech,': 1, 'cheered.': 1, 'absurd,': 1, 'grave': 3, 'dare': 5, 'laugh;': 1, 'simply': 2, 'bowed,': 1, 'looking': 30, 'solemn': 3, 'could.': 4, 'comfits:': 1, 'caused': 2, 'noise': 3, 'confusion,': 2, 'complained': 1, 'theirs,': 1, 'ones': 1, 'choked': 3, 'patted': 1, 'back.': 2, 'last,': 5, 'begged': 1, 'more.': 1, 'promised': 1, 'hate--C': 1, \"D,'\": 1, 'added': 20, 'whisper,': 1, \"'Mine\": 1, 'sad': 2, \"tale!'\": 1, 'sighing.': 1, \"'It\": 24, \"certainly,'\": 3, \"Mouse's\": 1, 'tail;': 1, \"'but\": 19, 'call': 5, \"sad?'\": 1, 'speaking,': 3, 'tale': 1, 'this:--': 2, \"'Fury\": 1, 'met': 4, '\"Let': 1, 'both': 16, 'law:': 1, 'prosecute': 1, 'YOU.--Come,': 1, 'denial;': 1, 'We': 2, 'trial:': 1, 'morning': 1, 'do.\"': 1, 'Said': 4, 'cur,': 1, '\"Such': 1, 'trial,': 1, 'Sir,': 1, 'jury': 9, 'judge,': 3, 'wasting': 2, 'breath.\"': 1, '\"I\\'ll': 2, 'jury,\"': 1, 'cunning': 1, 'Fury:': 1, 'cause,': 1, 'condemn': 1, 'death.\"\\'': 1, \"attending!'\": 1, 'severely.': 1, \"of?'\": 3, \"pardon,'\": 1, 'humbly:': 1, \"'you\": 8, 'fifth': 1, 'bend,': 1, \"think?'\": 2, \"NOT!'\": 1, 'sharply': 1, 'angrily.': 3, \"knot!'\": 1, 'undo': 1, \"it!'\": 7, \"sort,'\": 1, 'away.': 3, 'insult': 1, \"nonsense!'\": 2, 'mean': 7, 'pleaded': 3, 'easily': 4, 'offended,': 1, \"know!'\": 2, 'growled': 1, 'reply.': 3, \"'Please\": 3, 'finish': 4, \"story!'\": 2, 'others': 4, 'joined': 2, 'chorus,': 1, \"'Yes,\": 8, 'please': 9, \"do!'\": 3, 'shook': 9, 'impatiently,': 2, 'quicker.': 1, 'pity': 1, \"stay!'\": 1, 'sighed': 5, 'sight;': 1, 'Crab': 1, 'daughter': 1, \"'Ah,\": 2, 'lesson': 1, 'lose': 1, 'YOUR': 7, \"temper!'\": 1, \"'Hold\": 3, 'tongue,': 1, \"Ma!'\": 1, 'young': 5, 'Crab,': 1, 'snappishly.': 1, \"'You're\": 6, 'patience': 1, \"oyster!'\": 1, 'aloud,': 1, 'addressing': 1, 'nobody': 3, 'particular.': 1, \"'She'd\": 1, \"back!'\": 2, 'venture': 3, \"question?'\": 1, 'Lory.': 1, 'eagerly,': 3, 'pet:': 1, \"'Dinah's\": 1, 'cat.': 1, 'think!': 1, 'birds!': 1, 'bird': 1, 'speech': 1, 'sensation': 1, 'party.': 1, 'Some': 3, 'once:': 1, 'Magpie': 1, 'wrapping': 1, 'itself': 8, 'carefully,': 3, 'remarking,': 1, 'home;': 1, 'night-air': 1, 'suit': 3, \"throat!'\": 1, 'Canary': 1, 'children,': 3, \"'Come\": 6, 'away,': 3, 'dears!': 1, \"It's\": 6, \"bed!'\": 1, 'various': 2, 'pretexts': 1, 'moved': 4, 'alone.': 1, 'mentioned': 3, \"Dinah!'\": 1, 'tone.': 9, \"'Nobody\": 2, 'world!': 1, 'Dinah!': 1, \"more!'\": 1, 'lonely': 2, 'low-spirited.': 1, 'footsteps': 1, 'mind,': 2, 'story.': 1, 'IV.': 1, 'Sends': 1, 'Little': 1, 'Bill': 2, 'Rabbit,': 8, 'went,': 2, 'lost': 1, 'something;': 1, 'paws!': 1, 'whiskers!': 1, \"She'll\": 1, 'executed,': 3, 'ferrets': 1, 'ferrets!': 1, 'Where': 3, 'guessed': 3, 'good-naturedly': 1, 'hunting': 3, 'nowhere': 2, 'seen--everything': 1, 'since': 4, 'swim': 1, 'vanished': 3, 'completely.': 1, 'Very': 1, 'Mary': 3, 'Ann,': 2, 'ARE': 5, 'doing': 3, 'here?': 2, 'Run': 1, 'home': 1, 'fan!': 1, 'Quick,': 1, \"now!'\": 3, 'direction': 2, 'pointed': 1, 'mistake': 2, 'made.': 1, \"'He\": 4, \"housemaid,'\": 1, 'ran.': 1, \"he'll\": 1, 'finds': 1, 'am!': 1, \"I'd\": 7, 'better': 11, 'gloves--that': 1, \"them.'\": 2, 'neat': 1, 'brass': 1, 'plate': 2, \"'W.\": 1, \"RABBIT'\": 1, 'engraved': 1, 'knocking,': 1, 'upstairs,': 1, 'lest': 1, 'real': 3, 'gloves.': 1, \"seems,'\": 1, 'messages': 2, 'rabbit!': 1, 'suppose': 8, \"Dinah'll\": 1, \"next!'\": 1, 'fancying': 1, 'happen:': 1, '\\'\"Miss': 1, 'Come': 4, 'directly,': 1, 'walk!\"': 1, '\"Coming': 1, 'minute,': 4, 'nurse!': 1, 'out.\"': 1, 'Only': 1, \"think,'\": 2, \"'that\": 7, \"they'd\": 3, 'stop': 3, 'ordering': 2, 'By': 4, 'tidy': 1, 'room': 8, 'window,': 5, 'hoped)': 1, 'three': 23, 'pairs': 1, 'gloves:': 1, 'room,': 1, 'stood': 7, 'looking-glass.': 1, 'label': 1, \"ME,'\": 3, 'nevertheless': 1, 'uncorked': 1, 'lips.': 1, 'SOMETHING': 1, 'interesting': 3, \"happen,'\": 1, \"'whenever\": 1, 'does.': 1, \"thing!'\": 6, 'indeed,': 1, 'expected:': 1, 'drunk': 2, 'bottle,': 2, 'pressing': 1, 'ceiling,': 1, 'stoop': 1, 'save': 1, 'broken.': 1, \"'That's\": 14, 'enough--I': 1, 'more--As': 1, 'door--I': 1, 'Alas!': 1, 'that!': 2, 'kneel': 1, 'floor:': 1, 'minute': 15, 'effect': 1, 'elbow': 2, 'arm': 7, 'curled': 2, 'head.': 5, 'Still': 1, 'resource,': 1, 'chimney,': 2, \"'Now\": 4, 'whatever': 1, 'happens.': 1, 'What': 4, 'become': 5, 'Luckily': 1, 'magic': 1, 'full': 16, 'effect,': 1, 'grew': 1, 'larger:': 1, 'uncomfortable,': 1, 'chance': 4, 'unhappy.': 1, 'pleasanter': 1, \"home,'\": 1, \"'when\": 2, \"wasn't\": 11, 'ordered': 2, 'rabbits.': 1, 'gone': 9, 'rabbit-hole--and': 1, 'yet--and': 1, \"yet--it's\": 1, 'curious,': 1, 'life!': 1, 'fairy-tales,': 1, 'fancied': 2, 'middle': 3, 'one!': 1, 'me,': 3, 'ought!': 1, 'write': 5, 'one--but': 1, 'grown': 7, 'tone;': 2, \"'at\": 2, 'least': 7, \"HERE.'\": 1, \"then,'\": 6, \"'shall\": 1, 'now?': 1, \"That'll\": 1, 'comfort,': 1, 'way--never': 1, 'woman--but': 1, 'then--always': 1, \"shouldn't\": 5, \"THAT!'\": 1, 'foolish': 1, \"Alice!'\": 1, 'answered': 3, 'learn': 5, 'YOU,': 1, \"lesson-books!'\": 1, 'taking': 5, 'conversation': 4, 'altogether;': 1, 'outside,': 1, 'stopped': 3, 'listen.': 2, \"'Mary\": 1, 'Ann!': 1, \"Ann!'\": 1, \"'Fetch\": 1, \"moment!'\": 1, 'stairs.': 1, 'trembled': 2, 'forgetting': 3, 'reason': 8, 'inwards,': 1, 'attempt': 1, 'proved': 2, 'failure.': 1, \"'Then\": 11, \"window.'\": 1, \"'THAT\": 2, \"won't'\": 1, 'hand,': 6, 'snatch': 2, 'air.': 5, 'anything,': 1, 'shriek': 3, 'fall,': 1, 'crash': 1, 'broken': 5, 'concluded': 2, 'possible': 1, 'cucumber-frame,': 1, 'sort.': 1, 'Next': 2, 'voice--the': 1, \"Rabbit's--'Pat!\": 1, 'Pat!': 1, \"you?'\": 7, \"'Sure\": 1, 'Digging': 1, 'apples,': 2, 'yer': 4, \"honour!'\": 2, \"'Digging\": 1, \"'Here!\": 2, \"THIS!'\": 1, '(Sounds': 1, 'glass.)': 1, 'Pat,': 1, \"window?'\": 1, \"'Sure,\": 3, 'arm,': 5, '(He': 1, 'pronounced': 1, \"'arrum.')\": 1, \"'An\": 1, 'goose!': 1, 'size?': 1, 'fills': 1, \"window!'\": 1, 'does,': 1, 'honour:': 1, \"that.'\": 3, 'business': 3, 'there,': 1, 'rate:': 1, \"away!'\": 2, 'silence': 3, 'whispers': 1, 'then;': 1, 'honour,': 1, \"all!'\": 1, \"coward!'\": 1, 'TWO': 1, 'shrieks,': 1, 'sounds': 3, 'glass.': 1, 'cucumber-frames': 1, \"be!'\": 1, 'next!': 2, 'pulling': 1, 'COULD!': 1, \"longer!'\": 1, 'hearing': 3, 'more:': 1, 'rumbling': 1, 'cartwheels,': 1, 'together:': 1, 'words:': 2, \"'Where's\": 1, 'ladder?--Why,': 1, \"Bill's\": 3, 'other--Bill!': 1, 'lad!--Here,': 1, \"'em\": 3, 'corner--No,': 1, 'tie': 1, 'together': 2, 'first--they': 1, 'yet--Oh!': 1, 'enough;': 2, 'particular--Here,': 1, 'Bill!': 3, 'rope--Will': 1, 'bear?--Mind': 1, 'loose': 2, 'slate--Oh,': 1, 'Heads': 1, \"below!'\": 1, '(a': 1, 'loud': 3, \"crash)--'Now,\": 1, 'that?--It': 1, 'Bill,': 3, \"fancy--Who's\": 1, 'chimney?--Nay,': 1, \"shan't!\": 1, 'it!--That': 1, \"won't,\": 1, \"then!--Bill's\": 1, 'down--Here,': 1, 'master': 2, \"chimney!'\": 1, \"he?'\": 1, \"'Shy,\": 1, 'place': 7, 'deal:': 1, 'fireplace': 1, 'narrow,': 1, 'sure;': 1, 'THINK': 1, 'kick': 2, \"little!'\": 1, 'drew': 5, 'chimney': 2, 'animal': 1, 'guess': 2, 'was)': 1, 'scratching': 1, 'scrambling': 1, 'above': 3, \"'This\": 2, \"Bill,'\": 2, 'sharp': 6, 'kick,': 1, \"Bill!'\": 1, \"along--'Catch\": 1, 'him,': 4, \"hedge!'\": 1, 'silence,': 2, 'confusion': 3, \"voices--'Hold\": 1, 'head--Brandy': 1, \"now--Don't\": 1, 'choke': 1, 'him--How': 1, 'fellow?': 1, 'you?': 2, 'Last': 1, 'feeble,': 1, 'squeaking': 2, \"('That's\": 1, 'know--No': 1, 'thank': 1, 'ye;': 1, 'now--but': 1, 'flustered': 1, 'you--all': 1, 'comes': 1, 'Jack-in-the-box,': 1, \"sky-rocket!'\": 1, \"'So\": 4, 'did,': 3, \"fellow!'\": 1, 'others.': 3, \"down!'\": 1, 'voice;': 2, 'do.': 2, 'dead': 4, 'instantly,': 2, 'If': 17, 'sense,': 2, \"off.'\": 1, 'moving': 3, 'barrowful': 2, 'begin': 7, \"with.'\": 1, 'doubt,': 2, 'shower': 2, 'pebbles': 2, 'rattling': 2, 'hit': 2, 'face.': 3, \"'I'll\": 5, \"this,'\": 1, 'shouted': 9, \"'You'd\": 1, 'produced': 2, 'surprise': 1, 'cakes': 1, 'lay': 4, 'floor,': 2, \"cakes,'\": 1, 'SOME': 1, 'size;': 1, \"suppose.'\": 1, 'swallowed': 1, 'cakes,': 1, 'delighted': 2, 'directly.': 1, 'crowd': 4, 'outside.': 1, 'Lizard,': 2, 'held': 4, 'guinea-pigs,': 2, 'giving': 2, 'bottle.': 1, 'rush': 2, 'appeared;': 1, 'safe': 2, 'thick': 1, 'wood.': 3, \"do,'\": 4, 'wandered': 2, 'wood,': 1, \"'is\": 1, 'again;': 2, \"plan.'\": 1, 'excellent': 2, 'plan,': 1, 'arranged;': 1, 'difficulty': 3, 'smallest': 2, 'peering': 1, 'trees,': 2, 'bark': 2, 'An': 4, 'enormous': 1, 'puppy': 5, 'feebly': 1, 'stretching': 1, 'paw,': 2, 'touch': 1, \"'Poor\": 1, 'coaxing': 1, 'whistle': 1, 'terribly': 1, 'hungry,': 1, 'spite': 1, 'coaxing.': 1, 'Hardly': 1, 'picked': 3, 'stick,': 4, 'puppy;': 1, 'whereupon': 1, 'air': 2, 'yelp': 1, 'delight,': 2, 'rushed': 1, 'worry': 1, 'dodged': 1, 'thistle,': 1, 'keep': 10, 'run': 3, 'over;': 1, 'appeared': 3, 'tumbled': 1, 'heels': 1, 'cart-horse,': 1, 'trampled': 1, 'thistle': 1, 'series': 1, 'charges': 1, 'forwards': 1, 'each': 8, 'back,': 4, 'barking': 1, 'hoarsely': 1, 'tongue': 1, 'mouth,': 2, 'shut.': 1, 'escape;': 1, 'breath,': 3, \"puppy's\": 1, 'faint': 1, 'distance.': 2, \"was!'\": 1, 'leant': 1, 'buttercup': 1, 'fanned': 1, 'leaves:': 1, 'liked': 3, 'teaching': 1, 'tricks': 1, 'much,': 2, 'if--if': 1, 'it!': 1, 'again!': 1, 'see--how': 1, 'managed?': 1, 'other;': 2, \"what?'\": 2, 'what?': 1, 'blades': 1, 'grass,': 2, 'circumstances.': 1, 'mushroom': 4, 'height': 4, 'herself;': 4, 'stretched': 2, 'tiptoe,': 2, 'edge': 3, 'mushroom,': 3, 'immediately': 3, 'caterpillar,': 1, 'arms': 5, 'folded,': 2, 'quietly': 4, 'smoking': 2, 'hookah,': 1, 'else.': 2, 'V.': 1, 'Advice': 1, 'Caterpillar': 11, 'silence:': 1, 'hookah': 4, 'addressed': 2, 'languid,': 1, \"'Who\": 6, \"YOU?'\": 2, 'Caterpillar.': 12, 'encouraging': 2, 'replied,': 5, 'shyly,': 1, \"'I--I\": 1, 'sir,': 3, 'present--at': 1, 'morning,': 2, \"then.'\": 2, 'sternly.': 1, \"'Explain\": 2, \"yourself!'\": 1, 'MYSELF,': 1, \"sir'\": 1, \"'because\": 3, 'myself,': 1, \"see.'\": 1, \"see,'\": 1, \"clearly,'\": 1, 'politely,': 3, 'with;': 1, 'different': 5, 'sizes': 1, \"confusing.'\": 1, \"isn't,'\": 1, \"haven't\": 7, \"yet,'\": 4, 'turn': 6, 'chrysalis--you': 1, 'know--and': 1, 'butterfly,': 1, 'queer,': 1, \"bit,'\": 2, 'feelings': 1, \"different,'\": 1, \"'all\": 1, \"ME.'\": 1, \"'You!'\": 1, 'contemptuously.': 2, 'brought': 3, 'irritated': 1, \"Caterpillar's\": 1, 'remarks,': 1, 'gravely,': 2, 'think,': 2, 'are,': 2, \"first.'\": 1, \"'Why?'\": 2, 'Here': 5, 'question;': 1, 'reason,': 1, 'state': 6, \"'I've\": 13, \"say!'\": 1, 'promising,': 1, 'certainly:': 2, \"'Keep\": 1, \"temper,'\": 1, \"'Is\": 3, \"all?'\": 2, 'swallowing': 1, 'anger': 1, \"'No,'\": 2, 'wait,': 1, 'hearing.': 1, 'puffed': 1, 'unfolded': 2, 'arms,': 1, 'mouth': 7, 'changed,': 1, 'am,': 1, \"sir,'\": 1, 'used--and': 1, \"together!'\": 1, \"'Can't\": 1, 'WHAT': 2, \"things?'\": 1, '\"HOW': 1, 'DOTH': 1, 'LITTLE': 2, 'BUSY': 1, 'BEE,\"': 1, \"different!'\": 2, \"'Repeat,\": 1, '\"YOU': 1, 'OLD,': 2, 'FATHER': 2, 'WILLIAM,\"\\'': 1, 'folded': 1, 'began:--': 1, 'old,': 2, 'Father': 2, \"William,'\": 1, 'man': 1, 'white;': 1, 'incessantly': 1, 'stand': 4, 'head--': 1, \"right?'\": 1, \"youth,'\": 3, 'son,': 1, 'feared': 1, 'injure': 1, 'brain;': 1, 'But,': 2, 'perfectly': 4, 'none,': 1, \"old,'\": 3, 'youth,': 3, \"'as\": 4, 'most': 10, 'uncommonly': 1, 'fat;': 1, 'Yet': 3, 'back-somersault': 1, 'door--': 1, 'Pray,': 1, 'sage,': 1, 'grey': 1, 'locks,': 1, 'limbs': 1, 'supple': 1, 'ointment--one': 1, 'shilling': 1, 'box--': 1, 'Allow': 1, 'sell': 1, \"couple?'\": 1, 'jaws': 1, 'weak': 2, 'tougher': 1, 'suet;': 1, 'goose,': 1, 'bones': 1, 'beak--': 1, 'Pray': 1, \"it?'\": 11, 'father,': 1, 'law,': 1, 'argued': 1, 'wife;': 1, 'muscular': 1, 'strength,': 1, 'jaw,': 1, 'Has': 1, 'lasted': 1, \"life.'\": 1, \"'one\": 1, 'steady': 1, 'ever;': 1, 'balanced': 1, 'eel': 1, 'nose--': 1, 'awfully': 1, \"clever?'\": 1, 'questions,': 1, \"enough,'\": 1, 'father;': 1, 'yourself': 5, 'airs!': 1, 'stuff?': 1, 'Be': 1, \"stairs!'\": 1, \"right,'\": 3, 'QUITE': 2, 'right,': 3, \"afraid,'\": 1, 'timidly;': 1, \"'some\": 1, \"altered.'\": 1, 'wrong': 2, \"end,'\": 1, 'decidedly,': 3, 'minutes.': 2, 'speak.': 1, \"be?'\": 2, 'particular': 3, \"size,'\": 1, 'replied;': 3, \"'only\": 1, 'changing': 2, 'often,': 2, \"know.'\": 9, \"DON'T\": 1, 'nothing:': 1, 'contradicted': 1, 'losing': 1, 'temper.': 1, 'content': 1, \"now?'\": 2, \"mind,'\": 1, 'Alice:': 7, \"'three\": 1, 'wretched': 2, \"be.'\": 1, 'angrily,': 3, 'rearing': 1, 'upright': 1, 'spoke': 4, 'high).': 1, 'piteous': 1, 'creatures': 6, \"offended!'\": 1, \"'You'll\": 2, \"time,'\": 5, 'Caterpillar;': 1, 'patiently': 1, 'chose': 1, 'yawned': 2, 'twice,': 3, 'itself.': 1, 'crawled': 1, 'merely': 2, 'remarking': 2, \"'One\": 2, 'taller,': 1, \"shorter.'\": 1, 'WHAT?': 1, \"mushroom,'\": 1, 'Caterpillar,': 2, 'asked': 8, 'aloud;': 1, 'sight.': 1, 'thoughtfully': 1, 'difficult': 2, 'question.': 3, 'broke': 2, 'hand.': 1, \"which?'\": 1, 'nibbled': 2, 'right-hand': 1, 'effect:': 1, 'violent': 2, 'blow': 2, 'underneath': 1, 'chin:': 1, 'foot!': 1, 'lost,': 1, 'rapidly;': 1, 'work': 39, 'bit.': 2, 'closely': 1, 'foot,': 2, 'mouth;': 1, 'swallow': 1, 'morsel': 1, 'lefthand': 2, \"head's\": 1, 'free': 7, \"last!'\": 1, 'tone': 8, 'alarm': 1, 'shoulders': 2, 'found:': 1, 'immense': 1, 'length': 1, 'neck,': 1, 'rise': 1, 'stalk': 1, 'sea': 2, 'green': 3, 'leaves': 2, 'below': 1, 'stuff': 1, 'where': 10, 'HAVE': 5, 'to?': 1, 'spoke,': 5, 'result': 1, 'follow,': 1, 'shaking': 3, 'distant': 2, 'leaves.': 1, 'head,': 3, 'bend': 1, 'direction,': 1, 'serpent.': 1, 'succeeded': 3, 'curving': 1, 'graceful': 1, 'zigzag,': 1, 'dive': 1, 'tops': 1, 'trees': 5, 'wandering,': 1, 'hiss': 1, 'draw': 4, 'hurry:': 1, 'pigeon': 1, 'flown': 1, 'face,': 4, 'beating': 1, 'violently': 2, 'wings.': 1, \"'Serpent!'\": 1, 'screamed': 4, 'Pigeon.': 2, \"serpent!'\": 1, 'indignantly.': 3, \"alone!'\": 1, \"'Serpent,\": 1, 'repeated': 8, 'Pigeon,': 2, 'subdued': 1, 'sob,': 1, \"about,'\": 1, 'roots': 1, 'banks,': 1, \"hedges,'\": 1, 'Pigeon': 5, 'attending': 2, 'her;': 3, 'serpents!': 1, \"There's\": 1, 'pleasing': 1, 'puzzled,': 1, 'finished.': 1, 'hatching': 1, \"eggs,'\": 1, 'Pigeon;': 2, 'look-out': 1, 'serpents': 2, 'night': 1, 'day!': 1, 'sleep': 4, \"weeks!'\": 1, 'sorry': 1, \"you've\": 5, \"annoyed,'\": 1, 'meaning.': 1, 'taken': 4, 'highest': 1, 'tree': 3, \"wood,'\": 1, 'continued': 7, 'raising': 1, 'shriek,': 2, 'needs': 1, 'wriggling': 1, 'sky!': 1, 'Ugh,': 1, \"Serpent!'\": 1, 'serpent,': 2, \"a--I'm\": 1, \"a--'\": 1, \"'Well!\": 2, 'invent': 1, \"something!'\": 1, \"'I--I'm\": 1, \"girl,'\": 1, 'doubtfully,': 1, 'changes': 2, 'day.': 3, 'story': 2, 'deepest': 1, 'contempt.': 1, 'girls': 3, 'no!': 2, \"You're\": 2, 'serpent;': 1, 'denying': 1, 'telling': 2, 'tasted': 2, \"egg!'\": 1, 'eggs,': 3, 'truthful': 1, 'child;': 1, 'eggs': 1, \"they're\": 9, \"say.'\": 2, 'silent': 3, 'adding,': 1, 'does': 4, \"serpent?'\": 1, 'matters': 2, 'hastily;': 1, 'happens;': 1, 'YOURS:': 1, \"raw.'\": 1, \"then!'\": 2, 'sulky': 2, 'settled': 3, 'nest.': 1, 'crouched': 1, 'entangled': 2, 'branches,': 1, 'untwist': 1, 'pieces': 2, 'nibbling': 3, 'taller': 1, 'shorter,': 1, 'bringing': 3, 'usual': 1, 'height.': 1, 'size,': 1, 'strange': 4, 'first;': 2, 'minutes,': 2, 'plan': 1, 'now!': 1, 'are!': 1, 'be,': 1, 'another!': 1, 'beautiful': 8, 'garden--how': 1, 'done,': 1, 'place,': 2, \"'Whoever\": 1, 'lives': 1, \"there,'\": 2, \"'it'll\": 1, 'why,': 2, 'frighten': 1, \"wits!'\": 1, 'righthand': 1, 'VI.': 1, 'Pig': 1, 'Pepper': 1, 'next,': 2, 'footman': 3, 'livery': 1, 'wood--(she': 1, 'considered': 3, 'livery:': 1, 'otherwise,': 1, 'judging': 1, 'only,': 1, 'fish)--and': 1, 'rapped': 1, 'loudly': 2, 'knuckles.': 1, 'livery,': 1, 'frog;': 1, 'footmen,': 1, 'noticed,': 1, 'powdered': 1, 'heads.': 1, 'crept': 1, 'wood': 2, 'Fish-Footman': 2, 'producing': 1, 'letter,': 3, 'himself,': 1, 'saying,': 3, \"'For\": 1, 'Duchess.': 3, 'invitation': 2, 'Queen': 34, \"croquet.'\": 2, 'Frog-Footman': 1, 'repeated,': 2, 'order': 2, 'little,': 3, \"'From\": 1, 'Queen.': 11, 'Duchess': 15, 'bowed': 3, 'curls': 1, 'together.': 2, 'laughed': 1, 'gone,': 3, 'ground': 2, 'staring': 3, 'stupidly': 1, 'sky.': 2, 'timidly': 2, 'knocked.': 1, \"'There's\": 6, \"knocking,'\": 2, 'Footman,': 2, 'reasons.': 1, 'are;': 1, 'secondly,': 2, 'inside,': 1, \"you.'\": 1, 'extraordinary': 2, 'within--a': 1, 'constant': 3, 'howling': 3, 'sneezing,': 1, 'crash,': 1, 'dish': 3, 'kettle': 1, 'pieces.': 1, \"'Please,\": 1, \"'how\": 1, \"in?'\": 3, 'sense': 1, 'Footman': 4, \"'if\": 7, 'between': 5, 'us.': 1, 'instance,': 3, 'INSIDE,': 1, 'knock,': 1, 'sky': 1, 'decidedly': 1, 'uncivil.': 1, \"'his\": 1, 'questions.--How': 1, 'remarked,': 2, \"'till\": 2, \"tomorrow--'\": 1, 'opened,': 1, 'skimming': 1, \"Footman's\": 1, 'head:': 1, 'grazed': 1, 'nose,': 3, 'him.': 2, \"'--or\": 1, \"maybe,'\": 1, 'happened.': 1, 'louder': 1, \"'ARE\": 1, 'Footman.': 1, 'doubt:': 1, 'told': 6, 'so.': 2, \"'It's\": 15, \"dreadful,'\": 1, 'muttered': 2, 'argue.': 1, 'drive': 1, \"crazy!'\": 1, 'repeating': 3, 'remark,': 4, 'variations.': 1, \"'on\": 1, 'days': 6, \"days.'\": 1, \"do?'\": 1, \"'Anything\": 1, \"like,'\": 3, 'whistling.': 1, \"him,'\": 2, 'desperately:': 1, \"'he's\": 1, \"idiotic!'\": 1, 'in.': 1, 'kitchen,': 1, 'smoke': 1, 'stool': 1, 'nursing': 3, 'baby;': 1, 'cook': 8, 'leaning': 2, 'stirring': 2, 'cauldron': 2, 'soup.': 1, 'pepper': 5, \"soup!'\": 1, 'sneezing.': 1, 'Even': 1, 'sneezed': 1, 'occasionally;': 1, 'baby,': 3, 'sneezing': 4, 'alternately': 1, \"moment's\": 2, 'pause.': 1, 'kitchen': 2, 'sneeze,': 1, 'cook,': 2, 'hearth': 1, 'grinning': 1, 'ear': 2, 'ear.': 3, 'timidly,': 4, 'manners': 1, \"'why\": 2, 'grins': 1, 'Cheshire': 6, \"cat,'\": 1, 'why.': 1, \"Pig!'\": 1, 'word': 8, 'violence': 1, 'jumped;': 1, 'courage,': 1, 'again:--': 2, 'grinned;': 1, 'COULD': 3, \"grin.'\": 1, \"can,'\": 1, 'Duchess;': 4, \"do.'\": 2, 'pleased': 5, \"much,'\": 5, \"fact.'\": 1, 'introduce': 2, 'While': 6, 'fix': 2, 'one,': 6, 'soup': 1, 'throwing': 2, 'within': 5, 'baby--the': 1, 'fire-irons': 1, 'saucepans,': 1, 'plates,': 1, 'dishes.': 1, 'baby': 6, 'already,': 1, 'impossible': 2, 'blows': 1, 'not.': 2, 'PLEASE': 2, \"doing!'\": 1, 'jumping': 4, 'agony': 1, 'terror.': 1, 'PRECIOUS': 1, \"nose';\": 1, 'unusually': 1, 'saucepan': 1, 'flew': 1, 'carried': 4, 'everybody': 5, 'minded': 1, \"business,'\": 1, 'growl,': 2, 'faster': 1, \"does.'\": 1, \"advantage,'\": 1, 'knowledge.': 1, \"'Just\": 2, 'night!': 1, 'earth': 1, 'takes': 3, 'twenty-four': 1, 'hours': 3, \"axis--'\": 1, \"'Talking\": 1, \"axes,'\": 1, \"'chop\": 1, \"head!'\": 7, 'glanced': 1, 'meant': 4, 'hint;': 1, 'busily': 4, 'soup,': 1, \"'Twenty-four\": 1, 'hours,': 1, 'THINK;': 1, 'twelve?': 1, \"I--'\": 1, 'bother': 1, 'abide': 2, \"figures!'\": 1, 'singing': 2, 'lullaby': 1, 'shake': 1, 'line:': 1, 'roughly': 1, 'boy,': 2, 'beat': 4, 'sneezes:': 1, 'annoy,': 1, 'Because': 1, \"teases.'\": 1, 'CHORUS.': 2, '(In': 1, 'joined):--': 1, \"'Wow!\": 2, 'wow!': 2, \"wow!'\": 2, 'sang': 2, 'verse': 1, 'song,': 4, 'tossing': 3, 'howled': 1, 'words:--': 2, 'sneezes;': 1, 'thoroughly': 2, 'enjoy': 1, \"pleases!'\": 1, 'nurse': 1, \"like!'\": 1, 'flinging': 1, \"Queen,'\": 1, 'room.': 1, 'threw': 2, 'frying-pan': 1, 'missed': 2, 'caught': 3, 'difficulty,': 1, 'queer-shaped': 1, 'creature,': 2, 'directions,': 2, \"'just\": 1, \"star-fish,'\": 1, 'snorting': 1, 'steam-engine': 1, 'doubling': 1, 'straightening': 1, 'proper': 3, '(which': 1, 'twist': 2, 'knot,': 1, 'tight': 1, 'prevent': 2, 'undoing': 1, 'itself,)': 1, \"'IF\": 1, \"'they're\": 1, 'kill': 1, 'two:': 1, 'murder': 1, \"behind?'\": 1, 'loud,': 2, 'grunted': 3, 'reply': 1, 'time).': 1, \"'Don't\": 4, \"grunt,'\": 1, \"'that's\": 1, 'expressing': 1, \"yourself.'\": 2, 'doubt': 1, 'turn-up': 1, 'snout': 1, 'nose;': 1, 'also': 3, 'extremely': 1, 'baby:': 1, 'altogether': 1, 'all.': 4, \"sobbing,'\": 1, 'tears.': 2, 'pig,': 4, \"dear,'\": 1, 'seriously,': 1, 'you.': 1, 'Mind': 1, 'sobbed': 1, '(or': 4, 'grunted,': 1, 'which),': 1, 'creature': 2, \"home?'\": 1, 'alarm.': 1, 'NO': 3, 'neither': 2, 'less': 3, 'absurd': 1, 'carry': 2, 'further.': 1, 'relieved': 1, 'trot': 1, \"up,'\": 2, 'dreadfully': 6, 'ugly': 1, 'child:': 1, 'handsome': 1, \"think.'\": 1, 'knew,': 1, 'pigs,': 1, \"them--'\": 1, 'startled': 2, 'seeing': 1, 'Cat': 8, 'bough': 1, 'yards': 1, 'grinned': 2, 'good-natured,': 1, 'thought:': 1, 'claws': 1, 'teeth,': 1, 'treated': 1, 'respect.': 1, \"'Cheshire\": 1, \"Puss,'\": 1, 'name:': 1, 'wider.': 1, \"far,'\": 2, 'on.': 8, \"here?'\": 4, 'depends': 2, \"to,'\": 1, 'Cat.': 5, \"where--'\": 1, \"go,'\": 2, \"'--so\": 2, \"SOMEWHERE,'\": 1, 'explanation.': 2, \"that,'\": 9, 'Cat,': 7, \"enough.'\": 1, 'denied,': 1, \"direction,'\": 2, 'waving': 5, 'paw': 1, \"'lives\": 2, 'Hatter:': 6, 'March': 31, 'Hare.': 11, 'Visit': 1, 'like:': 1, \"mad.'\": 3, 'mad': 5, \"people,'\": 1, 'remarked.': 5, 'Cat:': 2, \"'we're\": 1, 'here.': 2, 'mad.': 2, \"mad?'\": 2, \"be,'\": 3, \"here.'\": 2, \"'To\": 1, \"with,'\": 2, \"dog's\": 1, 'grant': 1, \"so,'\": 5, 'growls': 1, 'angry,': 1, 'wags': 1, 'tail': 3, 'pleased.': 1, 'Now': 2, 'growl': 1, 'pleased,': 1, 'wag': 1, 'angry.': 1, 'Therefore': 1, 'purring,': 1, \"growling,'\": 1, \"'Call\": 4, \"to-day?'\": 1, 'invited': 1, \"yet.'\": 2, 'vanished.': 1, 'happening.': 1, 'been,': 1, \"'By-the-bye,\": 1, 'became': 2, \"baby?'\": 1, \"'I'd\": 4, \"ask.'\": 1, \"pig,'\": 2, \"would,'\": 1, 'appear,': 1, 'Hare': 16, 'live.': 1, 'hatters': 1, 'interesting,': 1, 'May': 1, 'raving': 2, 'mad--at': 1, \"March.'\": 1, 'branch': 1, 'tree.': 2, \"fig?'\": 1, 'appearing': 2, 'vanishing': 1, 'suddenly:': 2, \"giddy.'\": 2, \"'All\": 2, 'Cat;': 1, 'ending': 1, 'gone.': 1, 'often': 4, \"grin,'\": 1, 'grin': 1, 'cat!': 1, \"life!'\": 2, 'farther': 1, 'sight': 2, 'Hare:': 1, 'chimneys': 1, 'shaped': 2, 'thatched': 1, 'fur.': 1, 'raised': 2, 'towards': 1, \"'Suppose\": 2, 'all!': 1, 'Hatter': 24, \"instead!'\": 1, 'VII.': 1, 'Mad': 1, 'Tea-Party': 1, 'front': 2, 'tea': 5, 'Dormouse': 23, 'fast': 4, 'asleep,': 2, 'using': 6, 'cushion,': 1, 'resting': 2, 'elbows': 1, \"'Very\": 3, 'uncomfortable': 1, \"Dormouse,'\": 2, \"'only,\": 1, \"mind.'\": 1, 'corner': 1, \"'No\": 1, 'room!': 1, 'No': 2, \"room!'\": 2, 'PLENTY': 1, 'indignantly,': 1, 'arm-chair': 1, 'table.': 3, \"'Have\": 3, \"wine,'\": 2, 'tea.': 1, \"isn't\": 6, \"any,'\": 1, 'civil': 2, \"invited,'\": 1, \"table,'\": 1, 'laid': 2, \"three.'\": 1, \"'Your\": 2, 'wants': 2, \"cutting,'\": 1, 'Hatter.': 13, 'speech.': 1, 'personal': 2, \"remarks,'\": 1, 'severity;': 1, \"rude.'\": 1, 'wide': 2, 'SAID': 1, \"'Why\": 7, 'raven': 1, \"writing-desk?'\": 1, 'fun': 1, \"they've\": 1, 'asking': 3, 'riddles.--I': 1, \"'Exactly\": 2, \"mean,'\": 2, 'least--at': 1, \"say--that's\": 1, \"bit!'\": 1, '\"I': 7, 'eat\"': 1, 'see\"!\\'': 1, 'Hare,': 2, 'get\"': 1, 'like\"!\\'': 1, 'Dormouse,': 6, 'sleep,': 1, 'breathe': 1, 'sleep\"': 1, 'breathe\"!\\'': 1, 'Hatter,': 10, 'dropped,': 1, 'ravens': 1, 'writing-desks,': 1, 'much.': 1, 'break': 1, 'month': 1, 'uneasily,': 1, \"fourth.'\": 1, \"'Two\": 2, \"wrong!'\": 1, 'butter': 1, \"works!'\": 1, 'angrily': 2, 'BEST': 2, \"butter,'\": 1, 'meekly': 1, 'replied.': 5, 'crumbs': 1, \"well,'\": 2, 'grumbled:': 1, \"bread-knife.'\": 1, 'gloomily:': 1, 'cup': 1, 'tea,': 1, 'butter,': 1, 'shoulder': 3, 'curiosity.': 3, \"watch!'\": 1, 'tells': 2, 'month,': 1, \"o'clock\": 3, \"'Does\": 2, 'year': 2, \"is?'\": 1, 'readily:': 1, 'stays': 1, \"together.'\": 1, \"MINE,'\": 1, 'puzzled.': 2, \"Hatter's\": 1, 'remark': 3, 'English.': 1, 'politely': 1, 'asleep': 4, \"again,'\": 1, 'poured': 1, 'nose.': 1, 'course;': 1, \"myself.'\": 1, 'riddle': 1, \"yet?'\": 2, 'replied:': 2, \"'what's\": 1, \"answer?'\": 1, 'slightest': 1, \"idea,'\": 1, \"'Nor\": 1, \"I,'\": 1, 'wearily.': 1, \"'than\": 1, 'waste': 1, 'riddles': 1, \"answers.'\": 1, 'Time': 1, 'IT.': 1, \"HIM.'\": 1, \"don't!'\": 1, \"Time!'\": 1, 'cautiously': 2, \"music.'\": 2, \"'Ah!\": 2, 'accounts': 1, 'beating.': 1, 'Now,': 1, \"he'd\": 1, 'clock.': 1, 'lessons:': 1, 'whisper': 1, 'hint': 1, 'Time,': 1, 'clock': 1, 'twinkling!': 1, 'Half-past': 1, \"dinner!'\": 1, \"('I\": 2, \"was,'\": 3, 'whisper.)': 1, 'grand,': 1, 'thoughtfully:': 1, 'then--I': 1, 'hungry': 2, \"perhaps,'\": 1, 'half-past': 1, \"liked.'\": 1, \"manage?'\": 1, 'mournfully.': 1, 'quarrelled': 1, 'March--just': 1, 'HE': 3, 'mad,': 1, \"know--'\": 4, '(pointing': 1, 'spoon': 1, 'Hare,)': 1, \"'--it\": 1, 'concert': 1, 'given': 2, 'Hearts,': 5, 'sing': 3, '\"Twinkle,': 1, 'twinkle,': 3, 'bat!': 1, 'at!\"': 1, \"perhaps?'\": 1, 'way:--': 1, '\"Up': 1, 'fly,': 1, 'Like': 1, 'tea-tray': 1, 'Twinkle,': 1, 'twinkle--\"\\'': 1, \"'Twinkle,\": 1, \"twinkle--'\": 1, 'pinch': 1, 'stop.': 1, \"verse,'\": 2, 'bawled': 1, '\"He\\'s': 1, 'murdering': 1, 'time!': 2, 'Off': 2, 'head!\"\\'': 1, \"savage!'\": 1, 'exclaimed': 4, 'mournful': 1, \"'he\": 2, 'ask!': 1, \"now.'\": 4, 'tea-things': 1, 'sigh:': 2, 'tea-time,': 1, \"we've\": 2, 'wash': 2, \"whiles.'\": 1, \"suppose?'\": 2, \"up.'\": 2, \"again?'\": 2, 'ask.': 1, \"subject,'\": 1, 'interrupted,': 2, 'yawning.': 1, 'this.': 1, 'vote': 1, 'lady': 2, \"story.'\": 1, \"one,'\": 3, 'alarmed': 1, 'proposal.': 1, \"shall!'\": 1, \"'Wake\": 2, \"Dormouse!'\": 1, 'pinched': 2, 'once.': 2, 'eyes.': 2, \"asleep,'\": 1, 'hoarse,': 1, 'feeble': 1, 'voice:': 1, 'fellows': 1, \"saying.'\": 1, \"'Tell\": 1, 'quick': 1, \"done.'\": 1, \"'Once\": 1, \"sisters,'\": 1, 'hurry;': 2, 'names': 1, 'Elsie,': 1, 'Lacie,': 1, 'Tillie;': 1, 'lived': 3, 'bottom': 4, \"well--'\": 1, \"on?'\": 2, 'interest': 1, 'questions': 2, 'eating': 1, 'drinking.': 1, \"treacle,'\": 1, 'two.': 1, 'remarked;': 1, \"'they'd\": 1, \"ill.'\": 2, \"were,'\": 1, 'Dormouse;': 2, \"'VERY\": 1, 'ways': 2, 'living': 1, 'like,': 2, 'puzzled': 5, 'on:': 2, \"well?'\": 2, \"'Take\": 2, \"tea,'\": 3, 'earnestly.': 1, \"'so\": 3, \"more.'\": 1, \"LESS,'\": 1, 'MORE': 2, \"nothing.'\": 1, \"opinion,'\": 1, \"'Who's\": 1, 'remarks': 1, 'triumphantly.': 1, 'this:': 2, 'helped': 1, 'bread-and-butter,': 2, \"treacle-well.'\": 1, \"'Sh!\": 1, \"sh!'\": 1, 'sulkily': 2, 'civil,': 1, \"on!'\": 6, 'humbly;': 1, 'interrupt': 1, \"ONE.'\": 1, 'consented': 1, 'sisters--they': 1, 'learning': 2, 'draw,': 1, \"draw?'\": 1, 'promise.': 1, \"'Treacle,'\": 2, 'time.': 2, 'clean': 1, \"cup,'\": 1, 'interrupted': 5, \"'let's\": 1, \"on.'\": 2, \"Dormouse's\": 1, 'unwillingly': 1, 'advantage': 2, 'change:': 1, 'upset': 2, 'milk-jug': 1, 'plate.': 1, 'offend': 1, 'cautiously:': 1, 'understand.': 1, 'treacle': 2, \"from?'\": 1, \"water-well,'\": 1, 'Hatter;': 1, 'treacle-well--eh,': 1, \"stupid?'\": 1, 'choosing': 1, 'remark.': 3, \"were',\": 1, \"'--well\": 1, \"in.'\": 1, 'interrupting': 2, \"draw,'\": 1, 'yawning': 1, 'rubbing': 2, 'sleepy;': 1, 'manner': 1, 'things--everything': 1, 'begins': 4, \"M--'\": 1, \"M?'\": 1, \"not?'\": 1, 'silent.': 2, 'closed': 2, 'doze;': 1, 'woke': 1, \"'--that\": 1, 'M,': 1, 'mouse-traps,': 1, 'moon,': 1, 'memory,': 1, 'muchness--you': 1, '\"much': 1, 'muchness\"--did': 1, 'drawing': 1, \"muchness?'\": 1, \"'Really,\": 2, 'confused,': 1, \"talk,'\": 1, 'piece': 5, 'rudeness': 1, 'bear:': 1, 'disgust,': 1, 'off;': 1, 'going,': 1, 'teapot.': 1, \"'At\": 1, 'THERE': 1, 'stupidest': 1, 'tea-party': 1, 'leading': 1, \"curious!'\": 1, \"everything's\": 1, 'today.': 1, \"once.'\": 2, 'Once': 1, 'unlocking': 1, 'pocket)': 1, 'passage:': 1, 'THEN--she': 1, 'flower-beds': 1, 'fountains.': 1, 'VIII.': 1, \"Queen's\": 7, 'Croquet-Ground': 1, 'rose-tree': 1, 'entrance': 1, 'garden:': 1, 'roses': 1, 'white,': 1, 'gardeners': 4, 'painting': 2, 'red.': 1, \"'Look\": 1, 'Five!': 2, 'paint': 1, 'Five,': 3, \"'Seven\": 1, 'jogged': 1, \"elbow.'\": 1, 'Seven': 3, 'Always': 1, 'blame': 1, \"others!'\": 1, \"'YOU'D\": 1, \"talk!'\": 1, 'Five.': 1, 'deserved': 1, \"beheaded!'\": 2, \"for?'\": 2, 'spoken': 1, 'first.': 1, 'none': 3, 'business,': 1, \"Two!'\": 1, 'Seven.': 1, \"business!'\": 2, 'him--it': 1, 'tulip-roots': 1, 'instead': 2, \"onions.'\": 1, 'flung': 1, 'brush,': 1, 'unjust': 1, \"things--'\": 1, 'chanced': 1, 'watching': 3, 'checked': 3, 'also,': 1, 'low.': 1, \"roses?'\": 1, 'Five': 1, 'nothing,': 2, 'Two.': 1, 'Two': 1, 'Miss,': 2, 'RED': 1, 'rose-tree,': 2, 'mistake;': 1, \"we're\": 1, 'best,': 2, 'afore': 1, 'comes,': 1, \"to--'\": 1, 'Queen!': 1, \"Queen!'\": 1, 'instantly': 3, 'themselves': 2, 'flat': 1, 'faces.': 1, 'footsteps,': 1, 'eager': 3, 'soldiers': 8, 'carrying': 2, 'clubs;': 1, 'gardeners,': 4, 'oblong': 1, 'flat,': 1, 'corners:': 1, 'courtiers;': 1, 'ornamented': 2, 'diamonds,': 1, 'did.': 1, 'royal': 2, 'children;': 1, 'dears': 1, 'merrily': 1, 'couples:': 1, 'hearts.': 1, 'guests,': 1, 'mostly': 1, 'Kings': 1, 'Queens,': 1, 'recognised': 1, 'Rabbit:': 1, 'manner,': 1, 'noticing': 1, 'Knave': 7, \"King's\": 2, 'crown': 2, 'crimson': 2, 'velvet': 1, 'cushion;': 1, 'procession,': 2, 'KING': 1, 'AND': 4, 'QUEEN': 1, 'HEARTS.': 1, 'doubtful': 2, 'lie': 2, 'rule': 2, 'processions;': 1, 'besides,': 1, \"procession,'\": 1, 'faces,': 2, 'waited.': 2, 'procession': 2, 'opposite': 1, \"this?'\": 1, 'smiled': 2, \"'Idiot!'\": 1, 'Queen,': 17, 'impatiently;': 1, \"'What's\": 2, 'name,': 1, \"child?'\": 1, \"'My\": 2, \"Majesty,'\": 7, 'politely;': 1, 'added,': 3, 'pack': 4, 'cards,': 1, \"needn't\": 3, \"THESE?'\": 1, 'rosetree;': 1, 'pattern': 1, 'backs': 1, 'pack,': 1, 'soldiers,': 2, 'courtiers,': 1, 'children.': 1, \"know?'\": 2, 'courage.': 1, \"MINE.'\": 1, 'fury,': 1, 'glaring': 1, 'beast,': 1, \"'Off\": 8, 'head!': 1, \"Off--'\": 1, \"'Nonsense!'\": 1, 'King': 27, \"'Consider,\": 1, 'dear:': 1, \"child!'\": 2, \"'Turn\": 2, 'foot.': 1, \"'Get\": 2, \"up!'\": 1, 'bowing': 1, 'King,': 15, \"'Leave\": 1, \"'May\": 1, 'Two,': 1, 'humble': 1, 'knee': 1, \"'we\": 3, \"trying--'\": 1, \"see!'\": 1, 'meanwhile': 1, 'examining': 1, 'roses.': 1, \"heads!'\": 1, 'remaining': 2, 'execute': 1, 'unfortunate': 3, 'protection.': 1, 'flower-pot': 1, 'near.': 1, 'marched': 1, \"off?'\": 1, \"'Their\": 1, \"Majesty!'\": 2, \"right!'\": 1, \"'Can\": 1, \"croquet?'\": 1, 'silent,': 2, 'evidently': 1, \"'Yes!'\": 1, 'roared': 1, \"'It's--it's\": 1, 'fine': 2, \"day!'\": 1, 'side.': 2, 'peeping': 1, \"'Very,'\": 1, \"'--where's\": 1, \"Duchess?'\": 1, \"'Hush!\": 1, \"Hush!'\": 1, 'ear,': 1, 'whispered': 4, \"'She's\": 2, \"execution.'\": 1, '\"What': 2, 'pity!\"?\\'': 1, \"didn't,'\": 1, 'pity.': 1, 'for?\"\\'': 1, \"'She\": 2, 'boxed': 1, \"ears--'\": 1, 'began.': 3, 'scream': 1, 'laughter.': 1, \"hush!'\": 1, 'late,': 1, \"said--'\": 3, \"places!'\": 1, 'thunder,': 1, 'croquet-ground': 1, 'life;': 1, 'ridges': 1, 'furrows;': 1, 'balls': 1, 'hedgehogs,': 1, 'mallets': 1, 'flamingoes,': 1, 'double': 1, 'arches.': 1, 'chief': 1, 'managing': 1, 'flamingo:': 1, 'body': 2, 'tucked': 3, 'comfortably': 1, 'generally,': 2, 'straightened': 1, 'hedgehog': 5, 'expression': 1, 'bursting': 1, 'laughing:': 1, 'provoking': 1, 'unrolled': 2, 'act': 1, 'crawling': 1, 'away:': 1, 'besides': 1, 'ridge': 1, 'furrow': 1, 'send': 1, 'doubled-up': 1, 'parts': 1, 'ground,': 1, 'conclusion': 1, 'indeed.': 1, 'players': 2, 'played': 1, 'turns,': 2, 'quarrelling': 2, 'fighting': 1, 'hedgehogs;': 1, 'furious': 1, 'stamping': 2, 'shouting': 2, 'minute.': 1, 'uneasy:': 1, 'dispute': 2, \"'what\": 2, 'me?': 1, \"They're\": 1, 'beheading': 1, 'here;': 1, \"alive!'\": 1, 'escape,': 1, 'seen,': 1, 'appearance': 1, 'air:': 1, \"to.'\": 1, 'with.': 1, 'appeared,': 3, 'nodded.': 1, 'come,': 2, 'flamingo,': 1, 'account': 1, 'game,': 2, 'someone': 1, 'appeared.': 1, \"fairly,'\": 1, 'complaining': 1, 'quarrel': 1, 'oneself': 1, 'speak--and': 1, 'particular;': 1, 'least,': 1, 'attends': 1, 'confusing': 2, 'alive;': 1, 'arch': 1, 'ground--and': 1, 'croqueted': 1, \"coming!'\": 1, \"Queen?'\": 1, \"all,'\": 3, \"'she's\": 1, \"extremely--'\": 1, 'listening:': 1, \"'--likely\": 1, 'win,': 1, 'finishing': 1, \"game.'\": 1, 'passed': 4, \"Cat's\": 2, 'friend': 2, 'mine--a': 1, \"Cat,'\": 1, \"'allow\": 1, 'King:': 2, \"'however,\": 1, 'kiss': 1, \"likes.'\": 1, \"impertinent,'\": 1, \"king,'\": 1, 'book,': 2, \"where.'\": 1, \"removed,'\": 1, 'passing': 1, \"removed!'\": 1, 'settling': 1, 'difficulties,': 1, 'small.': 1, 'executioner': 3, \"myself,'\": 2, 'screaming': 1, 'passion.': 1, 'already': 2, 'executed': 2, 'search': 2, 'hedgehog.': 1, 'engaged': 1, 'fight': 2, 'hedgehog,': 1, 'croqueting': 1, 'flamingo': 2, 'helpless': 1, 'fly': 1, 'hedgehogs': 1, 'sight:': 2, 'arches': 3, \"ground.'\": 1, 'escape': 1, 'friend.': 1, 'collected': 2, 'executioner,': 1, 'appealed': 1, 'settle': 1, 'arguments': 1, 'though,': 1, \"executioner's\": 1, 'unless': 4, 'from:': 1, 'HIS': 1, 'beheaded,': 1, \"weren't\": 1, 'nonsense.': 1, \"she'd\": 1, '(It': 1, 'anxious.)': 1, 'Duchess:': 4, 'HER': 2, \"prison,'\": 1, 'executioner:': 1, \"'fetch\": 1, 'arrow.': 1, 'fading': 1, 'entirely': 2, 'disappeared;': 1, 'wildly': 2, 'game.': 1, 'IX.': 1, 'Mock': 56, \"Turtle's\": 2, 'Story': 1, 'affectionately': 1, \"Alice's,\": 1, 'pleasant': 1, 'temper,': 1, 'kitchen.': 1, \"'When\": 3, \"I'M\": 1, \"Duchess,'\": 1, '(not': 1, 'hopeful': 1, 'though),': 1, 'AT': 1, 'ALL.': 1, 'Soup': 4, 'without--Maybe': 1, \"hot-tempered,'\": 1, 'rule,': 1, 'vinegar': 1, 'sour--and': 1, 'camomile': 1, 'bitter--and--and': 1, 'barley-sugar': 1, 'sweet-tempered.': 1, 'that:': 3, 'stingy': 1, 'something,': 1, 'forget': 2, 'talk.': 1, 'moral': 6, \"bit.'\": 1, \"hasn't\": 2, \"'Tut,\": 1, 'tut,': 1, \"'Everything's\": 1, 'moral,': 1, 'squeezed': 1, 'closer': 1, 'keeping': 4, 'ugly;': 1, 'shoulder,': 1, 'uncomfortably': 1, 'chin.': 2, 'rude,': 1, 'bore': 1, \"game's\": 1, 'little.': 1, \"''Tis\": 2, 'is--\"Oh,': 1, \"'tis\": 2, 'love,': 2, 'round!\"\\'': 1, \"'Somebody\": 1, \"said,'\": 1, 'whispered,': 1, 'minding': 1, 'well!': 1, 'is--\"Take': 1, 'themselves.\"\\'': 1, 'morals': 1, \"things!'\": 4, \"waist,'\": 1, 'pause:': 1, 'temper': 1, 'flamingo.': 1, 'Shall': 1, \"experiment?'\": 1, \"'HE\": 1, \"bite,'\": 1, 'anxious': 2, 'experiment': 1, 'tried.': 1, \"true,'\": 1, \"'flamingoes\": 1, 'mustard': 2, 'bite.': 1, 'is--\"Birds': 1, 'feather': 1, 'flock': 1, 'together.\"\\'': 1, \"bird,'\": 1, \"'Right,\": 1, \"usual,'\": 1, 'mineral,': 1, \"THINK,'\": 1, \"is,'\": 2, 'agree': 9, 'said;': 2, \"'there's\": 1, 'mustard-mine': 1, 'is--\"The': 1, 'mine,': 1, 'yours.\"\\'': 1, 'attended': 1, 'vegetable.': 1, \"is.'\": 3, 'is--\"Be': 1, 'be\"--or': 1, 'simply--\"Never': 1, 'imagine': 1, 'otherwise': 2, 'appear': 2, 'otherwise.\"\\'': 1, \"better,'\": 1, 'down:': 1, 'follow': 2, \"chose,'\": 1, \"'Pray\": 1, \"trouble!'\": 1, 'present': 1, 'cheap': 1, \"present!'\": 1, 'birthday': 1, 'loud.': 1, \"'Thinking\": 1, 'asked,': 1, 'dig': 1, 'sharply,': 1, 'worried.': 1, 'pigs': 1, 'fly;': 1, \"m--'\": 1, 'surprise,': 2, \"Duchess's\": 3, 'died': 1, 'favourite': 1, \"'moral,'\": 1, 'linked': 2, 'hers': 3, 'tremble.': 1, 'frowning': 3, 'thunderstorm.': 1, 'fair': 1, \"warning,'\": 1, 'spoke;': 1, \"'either\": 1, 'Take': 1, \"choice!'\": 1, 'choice,': 1, 'moment.': 1, \"'Let's\": 1, \"game,'\": 1, 'word,': 2, 'croquet-ground.': 1, 'guests': 2, 'absence,': 1, 'shade:': 1, 'delay': 1, 'lives.': 1, 'All': 3, 'players,': 2, 'Those': 1, 'whom': 2, 'sentenced': 1, 'custody': 2, 'left,': 1, 'execution.': 1, 'Turtle': 33, \"from,'\": 1, \"history,'\": 1, 'together,': 1, 'company': 1, \"pardoned.'\": 1, 'unhappy': 1, 'executions': 2, 'ordered.': 1, 'Gryphon,': 14, 'sun.': 1, '(IF': 1, 'Gryphon': 22, 'picture.)': 1, \"'Up,\": 1, 'lazy': 1, 'Turtle,': 8, 'history.': 1, \"ordered';\": 1, 'leaving': 1, 'Gryphon.': 15, 'Queen:': 1, 'rubbed': 1, 'eyes:': 1, 'watched': 2, 'chuckled.': 1, \"fun!'\": 1, \"fun?'\": 1, \"SHE,'\": 1, 'fancy,': 2, 'executes': 1, 'nobody,': 2, \"'Everybody\": 1, '\"come': 1, 'on!\"': 1, \"never!'\": 1, 'ledge': 1, 'rock,': 1, 'nearer,': 1, 'sighing': 2, 'heart': 2, 'break.': 1, 'pitied': 1, 'deeply.': 1, \"sorrow?'\": 1, 'answered,': 1, 'sorrow,': 1, \"lady,'\": 1, \"'she\": 1, \"her,'\": 1, 'hollow': 1, \"'sit\": 1, \"finished.'\": 1, 'EVEN': 2, 'finish,': 1, 'patiently.': 1, \"'Once,'\": 1, 'sigh,': 1, \"Turtle.'\": 1, 'These': 2, 'occasional': 1, 'exclamation': 1, \"'Hjckrrh!'\": 1, 'heavy': 2, 'sobbing': 2, 'Turtle.': 9, \"'Thank\": 3, \"story,'\": 1, 'MUST': 3, \"little,'\": 1, 'calmly,': 1, 'school': 4, 'sea.': 3, 'Turtle--we': 1, \"Tortoise--'\": 1, 'Tortoise,': 1, \"one?'\": 1, 'Tortoise': 1, \"us,'\": 1, 'angrily:': 1, \"'really\": 1, \"dull!'\": 1, \"question,'\": 1, 'Gryphon;': 1, 'sink': 1, \"'Drive\": 1, 'fellow!': 1, \"mayn't\": 1, \"it--'\": 1, \"didn't!'\": 2, \"tongue!'\": 2, 'educations--in': 1, \"day--'\": 1, \"'I'VE\": 1, 'day-school,': 1, \"too,'\": 1, 'proud': 2, \"'With\": 1, \"extras?'\": 1, 'anxiously.': 1, \"'Yes,'\": 3, 'learned': 1, \"washing?'\": 1, \"'Certainly\": 1, \"not!'\": 1, 'yours': 1, \"school,'\": 1, 'relief.': 2, 'OURS': 1, 'bill,': 1, '\"French,': 1, 'music,': 1, 'WASHING--extra.\"\\'': 1, \"'living\": 1, \"sea.'\": 1, 'afford': 1, 'sigh.': 1, 'regular': 2, \"course.'\": 1, 'inquired': 1, \"'Reeling\": 1, 'Writhing,': 1, 'branches': 1, 'Arithmetic--Ambition,': 1, 'Distraction,': 1, 'Uglification,': 1, \"Derision.'\": 1, '\"Uglification,\"\\'': 1, 'say.': 1, 'lifted': 1, 'surprise.': 2, \"'What!\": 1, 'Never': 1, \"uglifying!'\": 1, 'exclaimed.': 1, 'beautify': 1, 'doubtfully:': 1, \"means--to--make--anything--prettier.'\": 1, 'uglify': 1, \"simpleton.'\": 1, 'encouraged': 1, \"learn?'\": 1, \"Mystery,'\": 1, 'counting': 1, 'subjects': 1, 'flappers,': 1, \"'--Mystery,\": 1, 'ancient': 1, 'modern,': 1, 'Seaography:': 1, 'Drawling--the': 1, 'Drawling-master': 1, 'conger-eel,': 1, 'week:': 1, 'Drawling,': 1, 'Stretching,': 1, 'Fainting': 1, \"Coils.'\": 1, \"like?'\": 1, 'said:': 3, 'stiff.': 1, \"'Hadn't\": 1, 'Gryphon:': 3, 'Classics': 1, 'master,': 1, 'though.': 1, 'crab,': 1, \"was.'\": 1, 'Laughing': 1, 'Grief,': 1, 'turn;': 1, 'hid': 1, 'faces': 2, 'paws.': 1, \"lessons?'\": 1, 'subject.': 2, \"'Ten\": 1, \"day,'\": 1, 'Turtle:': 3, \"'nine\": 1, \"plan!'\": 1, \"lessons,'\": 2, 'remarked:': 1, 'lessen': 1, \"day.'\": 1, 'eleventh': 1, \"holiday?'\": 1, \"twelfth?'\": 1, 'eagerly.': 1, \"'tell\": 1, 'games': 1, 'X.': 1, 'Lobster': 4, 'Quadrille': 2, 'deeply,': 2, 'flapper': 1, 'sobs': 2, \"'Same\": 1, 'bone': 1, \"throat,'\": 1, 'punching': 1, 'recovered': 2, 'cheeks,': 1, \"sea--'\": 1, \"haven't,'\": 1, \"Alice)--'and\": 1, 'introduced': 1, \"lobster--'\": 1, \"tasted--'\": 1, \"never')\": 1, 'delightful': 2, \"indeed,'\": 2, 'dance': 2, 'form': 2, 'line': 1, \"sea-shore--'\": 1, \"lines!'\": 1, \"'Seals,\": 1, 'turtles,': 1, 'salmon,': 1, 'on;': 1, 'cleared': 1, 'jelly-fish': 1, \"way--'\": 1, \"'--you\": 1, 'advance': 1, \"twice--'\": 1, \"'Each\": 1, 'lobster': 1, \"partner!'\": 1, \"'advance\": 1, \"partners--'\": 1, \"'--change\": 1, 'lobsters,': 3, 'retire': 1, \"order,'\": 1, \"'Then,\": 1, \"the--'\": 1, \"lobsters!'\": 1, 'bound': 3, \"'--as\": 1, \"can--'\": 1, \"'Swim\": 1, 'somersault': 1, \"sea!'\": 1, 'capering': 1, 'about.': 1, \"'Change\": 1, 'lobsters': 3, 'yelled': 1, \"'Back\": 1, 'land': 1, \"figure,'\": 1, 'dropping': 1, 'creatures,': 1, 'quietly,': 1, 'pretty': 1, \"dance,'\": 1, 'timidly.': 1, \"figure!'\": 1, \"sing?'\": 1, \"sing,'\": 1, \"words.'\": 1, 'dancing': 1, 'treading': 2, 'toes': 1, 'close,': 1, 'forepaws': 1, 'mark': 2, 'sadly:--': 1, '\\'\"Will': 1, 'faster?\"': 1, 'whiting': 3, 'snail.': 1, '\"There\\'s': 1, 'porpoise': 1, 'us,': 2, \"he's\": 1, 'See': 3, 'eagerly': 3, 'turtles': 1, 'advance!': 1, 'shingle--will': 1, 'join': 9, 'dance?': 4, 'Will': 4, '\"You': 2, 'sea!\"': 1, 'snail': 1, '\"Too': 1, 'far,': 1, 'far!\"': 1, 'askance--': 1, 'thanked': 1, 'kindly,': 1, 'dance.': 5, '\\'\"What': 1, 'go?\"': 1, 'scaly': 1, '\"There': 2, 'further': 2, 'England': 1, 'France--': 1, 'pale,': 2, 'beloved': 1, 'snail,': 1, 'dance?\"\\'': 1, \"watch,'\": 1, 'last:': 1, 'song': 1, \"whiting!'\": 1, \"whiting,'\": 2, \"'they--you've\": 1, \"course?'\": 1, \"dinn--'\": 1, 'Dinn': 1, \"like.'\": 1, 'thoughtfully.': 2, 'tails': 3, 'mouths--and': 1, \"crumbs.'\": 1, \"crumbs,'\": 1, \"'crumbs\": 1, 'mouths;': 1, \"is--'\": 1, \"eyes.--'Tell\": 1, 'thrown': 1, 'mouths.': 1, \"That's\": 1, 'interesting.': 1, \"before.'\": 1, \"whiting?'\": 1, \"'IT\": 1, 'DOES': 1, 'BOOTS': 1, \"SHOES.'\": 1, 'solemnly.': 1, \"shoes!'\": 1, \"with?'\": 1, 'mean,': 1, \"shiny?'\": 1, 'answer.': 1, \"'They're\": 2, 'blacking,': 1, \"believe.'\": 1, \"'Boots\": 1, \"sea,'\": 1, 'whiting.': 1, \"'Soles\": 1, 'eels,': 1, 'impatiently:': 2, \"'any\": 1, 'shrimp': 1, 'thoughts': 2, 'porpoise,': 1, '\"Keep': 1, 'please:': 1, 'us!\"\\'': 1, 'obliged': 3, \"'no\": 1, 'fish': 2, \"porpoise.'\": 1, \"'Wouldn't\": 1, \"really?'\": 1, \"'why,\": 1, 'ME,': 1, 'journey,': 1, '\"With': 1, 'porpoise?\"\\'': 1, '\"purpose\"?\\'': 1, \"adventures.'\": 1, 'adventures--beginning': 1, \"morning,'\": 1, 'timidly:': 1, 'yesterday,': 1, 'adventures': 2, 'impatient': 1, \"'explanations\": 1, 'dreadful': 1, \"time.'\": 1, 'Rabbit.': 1, 'mouths': 1, 'wide,': 1, 'gained': 1, 'courage': 1, 'listeners': 1, 'part': 5, \"'YOU\": 1, \"WILLIAM,'\": 1, 'different,': 1, \"curious.'\": 1, 'now.': 1, \"'Stand\": 1, '\"\\'TIS': 1, 'VOICE': 1, 'SLUGGARD,\"\\'': 1, \"lessons!'\": 1, 'Quadrille,': 1, 'indeed:--': 1, 'Lobster;': 1, 'declare,': 1, 'baked': 1, 'brown,': 1, 'sugar': 1, 'hair.\"': 1, 'duck': 1, 'eyelids,': 1, 'nose': 1, 'Trims': 1, 'belt': 1, 'buttons,': 1, 'turns': 1, \"toes.'\": 1, '[later': 2, 'editions': 5, 'follows': 2, 'sands': 1, 'dry,': 1, 'gay': 1, 'lark,': 1, 'contemptuous': 1, 'tones': 2, 'Shark,': 1, 'tide': 1, 'rises': 1, 'sharks': 1, 'around,': 1, 'His': 1, 'tremulous': 1, 'sound.]': 1, \"child,'\": 1, 'Turtle;': 1, 'uncommon': 1, \"nonsense.'\": 1, 'nothing;': 1, 'EVER': 1, \"explained,'\": 1, \"'Go\": 2, \"verse.'\": 1, \"toes?'\": 1, 'persisted.': 1, \"dancing.'\": 1, 'garden.\"\\'': 1, 'disobey,': 1, 'voice:--': 1, 'marked,': 1, 'eye,': 1, 'Owl': 2, 'Panther': 3, 'sharing': 2, \"pie--'\": 1, 'pie-crust,': 1, 'gravy,': 1, 'meat,': 1, 'share': 2, 'treat.': 1, 'pie': 1, 'finished,': 2, 'Owl,': 1, 'boon,': 1, 'Was': 1, 'kindly': 1, 'permitted': 3, 'pocket': 1, 'spoon:': 1, 'received': 6, 'knife': 1, 'fork': 1, 'banquet--]': 1, \"stuff,'\": 1, 'on?': 1, \"heard!'\": 1, \"off,'\": 1, \"'Shall\": 1, 'figure': 1, \"Quadrille?'\": 1, \"'Or\": 1, \"song?'\": 1, \"kind,'\": 1, \"'Hm!\": 1, 'accounting': 1, 'tastes!': 1, 'Sing': 1, '\"Turtle': 1, 'Soup,\"': 1, \"fellow?'\": 1, 'sobs,': 1, \"'Beautiful\": 2, 'Soup,': 1, 'rich': 1, 'green,': 1, 'Waiting': 1, 'tureen!': 1, 'dainties': 1, 'stoop?': 1, 'evening,': 2, 'Soup!': 4, 'Beau--ootiful': 4, 'Soo--oop!': 4, 'Soo--oop': 2, 'e--e--evening,': 3, 'Beautiful,': 3, 'cares': 2, 'fish,': 1, 'Game,': 1, 'dish?': 1, 'Pennyworth': 2, 'Soup?': 2, 'beauti--FUL': 1, \"SOUP!'\": 1, \"'Chorus\": 1, \"trial's\": 3, \"beginning!'\": 1, 'song.': 1, 'trial': 4, 'panted': 1, 'ran;': 1, 'faster,': 1, 'faintly': 1, 'breeze': 1, \"'Soo--oop\": 1, \"Soup!'\": 1, 'XI.': 1, 'Stole': 1, 'Tarts?': 1, 'Hearts': 1, 'seated': 1, 'throne': 1, 'arrived,': 1, 'them--all': 1, 'beasts,': 1, 'cards:': 1, 'standing': 1, 'chains,': 1, 'soldier': 1, 'guard': 1, 'him;': 1, 'trumpet': 1, 'scroll': 1, 'parchment': 2, 'other.': 2, 'court': 5, 'tarts': 3, 'good,': 1, \"them--'I\": 1, \"done,'\": 2, \"refreshments!'\": 1, 'pass': 1, 'justice': 1, 'books,': 1, \"judge,'\": 1, \"wig.'\": 1, 'King;': 3, 'wore': 1, 'wig,': 1, '(look': 1, 'frontispiece': 1, 'it,)': 1, 'comfortable,': 1, 'becoming.': 1, \"jury-box,'\": 1, 'twelve': 2, \"creatures,'\": 1, \"'creatures,'\": 1, 'animals,': 1, 'birds,)': 1, \"jurors.'\": 1, 'rightly': 1, 'too,': 1, \"'jury-men'\": 1, 'jurors': 3, 'writing': 7, 'slates.': 1, \"doing?'\": 1, 'yet,': 3, \"begun.'\": 1, \"names,'\": 1, 'reply,': 1, \"trial.'\": 1, \"'Stupid\": 1, 'indignant': 1, \"'Silence\": 1, \"court!'\": 1, 'spectacles': 1, 'shoulders,': 1, \"'stupid\": 1, 'slates,': 4, 'spell': 1, \"'stupid,'\": 1, 'neighbour': 1, 'muddle': 1, \"slates'll\": 1, 'One': 1, 'pencil': 1, 'squeaked.': 1, 'stand,': 1, 'quickly': 2, 'juror': 1, 'Lizard)': 1, 'day;': 1, 'slate.': 1, \"'Herald,\": 1, \"accusation!'\": 1, 'King.': 12, 'blew': 2, 'blasts': 2, 'trumpet,': 2, 'scroll,': 1, 'follows:--': 1, 'tarts,': 3, 'summer': 2, 'day:': 1, 'stole': 1, \"'Consider\": 2, \"verdict,'\": 3, 'jury.': 2, \"yet!'\": 1, 'interrupted.': 1, \"witness,'\": 1, \"'First\": 1, \"witness!'\": 2, 'witness': 4, 'teacup': 3, 'bread-and-butter': 2, 'pardon,': 1, 'in:': 2, 'sent': 3, \"for.'\": 1, \"finished,'\": 1, \"begin?'\": 1, 'court,': 5, 'arm-in-arm': 1, 'Dormouse.': 3, \"'Fourteenth\": 1, \"'Fifteenth,'\": 1, \"'Sixteenth,'\": 1, \"'Write\": 1, \"down,'\": 3, 'jury,': 4, 'wrote': 3, 'dates': 1, 'reduced': 1, 'shillings': 1, 'pence.': 1, \"hat,'\": 1, \"mine,'\": 1, \"'Stolen!'\": 1, 'exclaimed,': 1, 'memorandum': 1, 'fact.': 1, \"sell,'\": 1, 'explanation;': 1, 'own.': 1, \"hatter.'\": 1, 'spectacles,': 1, 'fidgeted.': 1, \"'Give\": 3, \"evidence,'\": 3, 'nervous,': 1, \"spot.'\": 1, 'encourage': 1, 'all:': 2, 'shifting': 1, 'uneasily': 1, 'bread-and-butter.': 1, 'sensation,': 1, 'court;': 1, 'remain': 2, 'squeeze': 1, \"so.'\": 1, \"breathe.'\": 1, 'meekly:': 1, \"growing.'\": 1, \"'You've\": 1, \"nonsense,'\": 1, 'boldly:': 1, \"too.'\": 1, 'reasonable': 2, \"pace,'\": 1, 'Dormouse:': 1, \"'not\": 2, 'ridiculous': 1, \"fashion.'\": 1, 'court.': 3, 'officers': 3, \"'Bring\": 1, 'list': 2, 'singers': 1, \"concert!'\": 1, 'man,': 2, \"'--and\": 2, 'tea--not': 1, 'week': 2, 'so--and': 1, 'thin--and': 1, 'twinkling': 3, \"tea--'\": 1, \"T!'\": 1, 'sharply.': 1, 'dunce?': 1, 'Go': 1, \"man,'\": 1, 'twinkled': 1, 'that--only': 1, \"did!'\": 1, 'deny': 2, 'denies': 1, \"'leave\": 1, \"part.'\": 1, 'too:': 1, 'denied': 1, 'asleep.': 1, \"'After\": 1, \"bread-and-butter--'\": 1, \"say?'\": 1, \"remember,'\": 2, 'remarked': 1, \"executed.'\": 1, 'miserable': 2, 'knee.': 1, \"speaker,'\": 1, 'guinea-pigs': 1, 'cheered,': 2, 'suppressed': 3, '(As': 1, 'done.': 1, 'canvas': 1, 'bag,': 1, 'tied': 1, 'strings:': 1, 'guinea-pig,': 1, 'newspapers,': 1, 'trials,': 1, 'attempts': 1, 'applause,': 1, 'court,\"': 1, 'understood': 1, \"lower,'\": 1, 'SIT': 1, 'guinea-pig': 1, 'suppressed.': 1, \"guinea-pigs!'\": 1, \"better.'\": 1, 'reading': 3, 'singers.': 1, \"outside,'\": 1, 'officers:': 1, 'officer': 1, 'cook.': 3, 'pepper-box': 1, \"'Shan't,'\": 1, 'Majesty': 2, 'cross-examine': 2, \"witness.'\": 2, 'must,': 2, \"must,'\": 1, 'folding': 1, \"'Pepper,\": 1, \"mostly,'\": 1, \"'Collar\": 1, 'shrieked': 1, \"'Behead\": 1, 'Dormouse!': 1, 'Turn': 1, 'court!': 1, 'Suppress': 1, 'him!': 2, 'Pinch': 1, \"whiskers!'\": 1, 'disappeared.': 1, \"'Never\": 1, \"mind!'\": 1, 'undertone': 1, 'witness.': 1, \"ache!'\": 1, 'fumbled': 1, 'list,': 1, \"'--for\": 1, 'evidence': 3, \"YET,'\": 1, 'Imagine': 1, 'shrill': 3, \"'Alice!'\": 1, 'XII.': 1, 'Evidence': 1, \"'Here!'\": 1, 'flurry': 1, 'tipped': 1, 'jury-box': 1, 'skirt,': 1, 'upsetting': 1, 'jurymen': 2, 'below,': 1, 'sprawling': 1, 'reminding': 1, 'globe': 1, 'goldfish': 2, 'accidentally': 1, 'before.': 2, 'BEG': 1, 'dismay,': 1, 'accident': 1, 'vague': 1, 'jury-box,': 2, 'die.': 1, 'cannot': 5, \"proceed,'\": 1, \"'until\": 1, \"places--ALL,'\": 1, 'emphasis,': 1, 'haste,': 1, 'Lizard': 2, 'downwards,': 1, 'unable': 1, 'move.': 1, 'right;': 1, 'signifies': 1, \"other.'\": 1, 'shock': 1, 'upset,': 1, 'slates': 1, 'pencils': 1, 'diligently': 1, 'history': 1, 'accident,': 1, 'overcome': 1, 'open,': 1, 'gazing': 1, \"business?'\": 1, \"'Nothing,'\": 1, \"'Nothing\": 3, \"WHATEVER?'\": 1, 'persisted': 1, \"whatever,'\": 1, \"important,'\": 1, 'interrupted:': 1, \"'UNimportant,\": 2, 'means,': 1, 'respectful': 1, \"meant,'\": 1, 'undertone,': 1, \"'important--unimportant--unimportant--important--'\": 1, 'best.': 1, \"'important,'\": 1, \"'unimportant.'\": 1, 'slates;': 1, 'note-book,': 1, 'cackled': 1, \"'Silence!'\": 1, \"'Rule\": 1, 'Forty-two.': 1, 'ALL': 2, 'PERSONS': 1, 'THAN': 1, 'MILE': 1, 'HIGH': 1, 'TO': 5, 'LEAVE': 1, \"COURT.'\": 1, 'Everybody': 1, \"'I'M\": 1, 'mile': 1, \"high,'\": 2, \"are,'\": 1, \"'Nearly\": 1, \"rate,'\": 1, \"'besides,\": 1, 'rule:': 1, 'invented': 1, 'oldest': 1, 'Number': 1, \"One,'\": 1, 'note-book': 1, \"'this\": 1, 'prisoner': 1, 'to--to': 1, \"somebody.'\": 1, \"'unless\": 1, 'usual,': 1, 'directed': 2, 'jurymen.': 2, 'Rabbit;': 1, \"OUTSIDE.'\": 1, \"verses.'\": 1, \"prisoner's\": 1, \"handwriting?'\": 1, 'queerest': 1, '(The': 3, 'puzzled.)': 1, 'imitated': 1, \"else's\": 1, \"hand,'\": 1, 'again.)': 1, 'Knave,': 1, 'prove': 1, 'did:': 1, 'signed': 2, \"end.'\": 1, 'sign': 1, 'worse.': 1, 'mischief,': 1, 'honest': 1, \"man.'\": 1, 'clapping': 1, 'clever': 1, 'PROVES': 1, \"guilt,'\": 1, 'proves': 1, \"sort!'\": 1, \"about!'\": 1, \"'Read\": 1, 'spectacles.': 1, \"'Where\": 1, 'begin,': 1, \"Majesty?'\": 1, \"'Begin\": 1, \"beginning,'\": 1, 'end:': 1, \"stop.'\": 1, 'verses': 3, 'read:--': 1, 'character,': 1, 'swim.': 1, '(We': 1, 'true):': 1, 'push': 1, 'more;': 1, 'returned': 1, 'Though': 1, 'Involved': 1, 'affair,': 1, 'trusts': 1, 'free,': 1, 'Exactly': 1, 'were.': 1, 'My': 1, '(Before': 1, 'fit)': 1, 'obstacle': 1, 'Him,': 1, 'ourselves,': 1, 'secret,': 1, 'rest,': 1, 'Between': 1, \"me.'\": 1, 'hands;': 1, \"jury--'\": 1, 'him,)': 1, 'sixpence.': 1, 'atom': 2, \"'SHE\": 1, 'attempted': 1, 'paper.': 1, 'saves': 1, 'trouble,': 1, 'any.': 1, 'spreading': 1, 'knee,': 3, '\"--SAID': 1, 'SWIM--\"': 1, 'swim,': 1, 'Knave.': 1, 'NOT,': 1, 'cardboard.)': 1, 'himself:': 1, '\\'\"WE': 1, 'KNOW': 1, 'IT': 1, 'BE': 2, 'TRUE--\"': 1, 'course--\"I': 1, 'GAVE': 2, 'ONE,': 1, 'THEY': 1, 'HIM': 2, 'TWO--\"': 1, \"'But,\": 1, '\"THEY': 1, 'RETURNED': 1, 'FROM': 1, 'YOU,\"\\'': 1, \"are!'\": 1, 'triumphantly,': 1, 'clearer': 1, 'THAT.': 1, 'again--\"BEFORE': 1, 'SHE': 1, 'HAD': 1, 'FIT--\"': 1, 'fits,': 1, \"'Never!'\": 1, 'furiously,': 1, 'inkstand': 1, 'slate': 1, 'finger,': 1, 'mark;': 1, 'ink,': 1, 'trickling': 1, 'lasted.)': 1, 'FIT': 1, 'smile.': 1, \"pun!'\": 1, 'laughed,': 1, 'consider': 1, 'twentieth': 1, \"no!'\": 1, \"'Sentence\": 1, 'first--verdict': 1, \"afterwards.'\": 1, \"'Stuff\": 1, 'loudly.': 1, \"first!'\": 1, 'purple.': 1, \"won't!'\": 1, 'Nobody': 1, 'moved.': 1, 'time.)': 1, \"cards!'\": 1, 'rose': 1, 'flying': 1, 'scream,': 1, 'fright': 1, 'anger,': 1, 'sister,': 2, 'brushing': 1, 'fluttered': 1, 'sister;': 1, \"had!'\": 1, \"dream!'\": 1, 'about;': 1, 'kissed': 1, 'dream,': 1, 'tea;': 1, \"late.'\": 1, 'ran,': 1, 'might,': 1, 'wonderful': 2, 'been.': 1, 'setting': 1, 'sun,': 1, 'Adventures,': 1, 'dreaming': 1, 'fashion,': 1, 'dream:--': 1, 'dreamed': 1, 'clasped': 1, 'hers--she': 1, 'toss': 1, 'wandering': 1, 'eyes--and': 1, 'listened,': 1, 'listen,': 1, 'around': 2, 'alive': 1, \"sister's\": 1, 'dream.': 1, 'grass': 2, 'rustled': 1, 'by--the': 1, 'splashed': 1, 'neighbouring': 1, 'pool--she': 1, 'rattle': 1, 'teacups': 2, 'shared': 2, 'never-ending': 1, 'meal,': 1, 'execution--once': 1, 'pig-baby': 1, 'plates': 1, 'dishes': 1, 'crashed': 1, 'it--once': 1, \"Lizard's\": 1, 'slate-pencil,': 1, 'choking': 1, 'believed': 1, 'reality--the': 1, 'rustling': 1, 'rippling': 1, 'reeds--the': 1, 'tinkling': 1, 'sheep-bells,': 1, 'cries': 1, 'shepherd': 1, 'boy--and': 1, 'sneeze': 1, 'noises,': 1, 'knew)': 1, 'clamour': 1, 'busy': 1, 'farm-yard--while': 1, 'lowing': 1, 'cattle': 1, 'distance': 1, 'sobs.': 1, 'Lastly,': 1, 'pictured': 1, 'would,': 1, 'after-time,': 1, 'woman;': 1, 'keep,': 1, 'riper': 1, 'years,': 2, 'loving': 1, 'childhood:': 1, 'gather': 1, 'THEIR': 1, 'tale,': 1, 'ago:': 1, 'sorrows,': 1, 'joys,': 1, 'remembering': 1, 'child-life,': 1, 'happy': 1, 'days.': 1, 'END': 2, 'End': 1, '*****': 2, 'file': 2, 'named': 1, '11.txt': 1, '11.zip': 1, 'associated': 7, 'files': 2, 'formats': 2, 'http://www.gutenberg.org/1/11/': 1, 'Updated': 1, 'replace': 1, 'previous': 1, 'one--the': 1, 'renamed.': 1, 'Creating': 1, 'works': 22, 'public': 8, 'domain': 7, 'print': 1, 'owns': 2, 'United': 10, 'States': 4, 'copyright': 12, 'works,': 5, 'Foundation': 14, 'you!)': 1, 'distribute': 5, 'permission': 6, 'paying': 2, 'royalties.': 1, 'Special': 1, 'rules,': 1, 'forth': 8, 'General': 3, 'Terms': 2, 'Use': 2, 'license,': 2, 'apply': 1, 'copying': 2, 'distributing': 6, 'Gutenberg-tm': 53, 'electronic': 27, 'protect': 2, 'GUTENBERG-tm': 1, 'concept': 2, 'trademark.': 3, 'registered': 2, 'trademark,': 3, 'charge': 6, 'eBooks,': 2, 'receive': 3, 'specific': 1, 'permission.': 1, 'copies': 7, 'eBook,': 1, 'complying': 3, 'easy.': 1, 'purpose': 1, 'creation': 1, 'derivative': 3, 'reports,': 1, 'performances': 1, 'research.': 1, 'modified': 1, 'away--you': 1, 'practically': 1, 'ANYTHING': 1, 'eBooks.': 2, 'Redistribution': 1, 'trademark': 3, 'especially': 1, 'commercial': 1, 'redistribution.': 1, 'START:': 1, 'FULL': 2, 'LICENSE': 2, 'READ': 1, 'BEFORE': 1, 'DISTRIBUTE': 1, 'OR': 6, 'USE': 1, 'WORK': 1, 'To': 4, 'mission': 3, 'promoting': 2, 'distribution': 6, 'phrase': 4, '\"Project': 5, 'Gutenberg\"),': 1, 'comply': 6, 'Full': 1, '(available': 1, 'http://gutenberg.org/license).': 1, 'Section': 7, '1.': 1, 'Redistributing': 1, '1.A.': 1, 'indicate': 1, 'read,': 1, 'understand,': 1, 'accept': 1, 'license': 1, 'intellectual': 2, 'property': 2, '(trademark/copyright)': 1, 'agreement.': 3, 'agreement,': 6, 'cease': 1, 'return': 3, 'destroy': 2, 'possession.': 1, 'paid': 6, 'fee': 8, 'obtaining': 2, 'access': 10, 'obtain': 3, 'refund': 6, 'entity': 3, 'paragraph': 10, '1.E.8.': 2, '1.B.': 1, 'Gutenberg\"': 4, '1.C': 1, 'below.': 3, 'lot': 1, 'agreement': 8, 'preserve': 1, 'future': 3, 'works.': 5, '1.E': 1, '1.C.': 1, 'Literary': 13, 'Archive': 13, '(\"the': 1, 'Foundation\"': 1, 'PGLAF),': 1, 'compilation': 1, 'collection': 3, 'Nearly': 1, 'individual': 4, 'States.': 4, 'located': 4, 'States,': 2, 'claim': 1, 'copying,': 2, 'distributing,': 1, 'performing,': 3, 'displaying': 2, 'creating': 3, 'based': 2, 'references': 2, 'removed.': 1, 'Of': 1, 'support': 3, 'freely': 4, 'compliance': 3, 'work.': 5, 'format': 4, 'attached': 1, '1.D.': 1, 'laws': 7, 'govern': 1, 'Copyright': 1, 'countries': 1, 'change.': 1, 'outside': 3, 'check': 2, 'addition': 1, 'downloading,': 1, 'displaying,': 2, 'representations': 1, 'concerning': 2, 'status': 4, '1.E.': 1, 'Unless': 1, 'removed': 1, 'Gutenberg:': 1, '1.E.1.': 2, 'following': 3, 'sentence,': 1, 'active': 2, 'links': 3, 'prominently': 2, 'whenever': 1, '(any': 1, 'appears,': 1, 'associated)': 1, 'accessed,': 1, 'displayed,': 1, 'performed,': 1, 'viewed,': 1, 'copied': 2, 'distributed:': 1, '1.E.2.': 1, 'derived': 1, '(does': 1, 'contain': 2, 'indicating': 1, 'posted': 5, 'holder),': 1, 'distributed': 3, 'fees': 2, 'charges.': 1, 'redistributing': 1, 'providing': 4, 'requirements': 2, 'paragraphs': 3, '1.E.1': 3, '1.E.7': 2, '1.E.8': 2, '1.E.9.': 3, '1.E.3.': 1, 'holder,': 1, 'additional': 3, 'imposed': 1, 'holder.': 1, 'Additional': 1, 'holder': 1, '1.E.4.': 1, 'unlink': 1, 'detach': 1, 'remove': 1, 'containing': 1, 'Gutenberg-tm.': 1, '1.E.5.': 1, 'copy,': 4, 'display,': 1, 'perform,': 1, 'redistribute': 1, 'License.': 2, '1.E.6.': 1, 'convert': 1, 'binary,': 1, 'compressed,': 1, 'nonproprietary': 1, 'proprietary': 1, 'form,': 1, 'including': 7, 'processing': 1, 'hypertext': 1, 'form.': 2, 'provide': 6, '\"Plain': 2, 'Vanilla': 2, 'ASCII\"': 2, 'official': 3, 'version': 1, 'web': 3, 'site': 4, '(www.gutenberg.org),': 1, 'cost,': 1, 'expense': 1, 'user,': 1, 'exporting': 1, 'request,': 1, 'original': 1, 'Any': 1, 'alternate': 1, 'include': 1, 'specified': 2, '1.E.7.': 1, 'viewing,': 1, 'provided': 3, '-': 7, 'pay': 1, 'royalty': 1, '20%': 1, 'gross': 1, 'profits': 1, 'derive': 1, 'calculated': 1, 'method': 1, 'calculate': 1, 'applicable': 3, 'taxes.': 1, 'owed': 1, 'owner': 3, 'agreed': 1, 'donate': 1, 'royalties': 1, 'Foundation.': 1, 'Royalty': 2, 'payments': 3, '60': 1, 'date': 2, 'prepare': 1, 'legally': 1, 'required': 1, 'prepare)': 1, 'periodic': 1, 'tax': 6, 'returns.': 1, 'clearly': 1, 'address': 1, '4,': 1, '\"Information': 1, 'donations': 11, 'Foundation.\"': 1, 'money': 3, 'user': 2, 'notifies': 1, 'e-mail)': 1, '30': 1, 'receipt': 2, 's/he': 1, 'require': 1, 'possessed': 1, 'physical': 2, 'medium': 3, 'discontinue': 1, 'provide,': 1, 'accordance': 2, '1.F.3,': 3, 'replacement': 3, 'defect': 2, 'discovered': 1, 'reported': 1, '90': 2, 'group': 1, 'Michael': 2, 'Hart,': 1, 'Contact': 1, '3': 2, '1.F.': 1, '1.F.1.': 1, 'volunteers': 5, 'employees': 2, 'expend': 1, 'considerable': 2, 'effort': 1, 'identify,': 1, 'research': 1, 'transcribe': 1, 'proofread': 1, 'collection.': 1, 'Despite': 1, 'efforts,': 1, 'stored,': 1, '\"Defects,\"': 1, 'limited': 2, 'incomplete,': 1, 'inaccurate': 1, 'corrupt': 1, 'data,': 1, 'transcription': 1, 'errors,': 1, 'infringement,': 1, 'defective': 2, 'damaged': 1, 'disk': 1, 'medium,': 2, 'computer': 2, 'virus,': 1, 'codes': 1, 'damage': 1, 'equipment.': 2, '1.F.2.': 1, 'LIMITED': 3, 'WARRANTY,': 1, 'DISCLAIMER': 1, 'DAMAGES': 2, 'Except': 2, '\"Right': 1, 'Replacement': 1, 'Refund\"': 1, 'described': 1, 'Foundation,': 4, 'disclaim': 1, 'liability': 1, 'damages,': 1, 'costs': 2, 'expenses,': 2, 'legal': 2, 'fees.': 1, 'AGREE': 2, 'REMEDIES': 1, 'FOR': 3, 'NEGLIGENCE,': 1, 'STRICT': 1, 'LIABILITY,': 1, 'BREACH': 2, 'WARRANTY': 1, 'CONTRACT': 1, 'EXCEPT': 1, 'THOSE': 1, 'PROVIDED': 1, 'PARAGRAPH': 1, 'F3.': 1, 'FOUNDATION,': 1, 'TRADEMARK': 1, 'OWNER,': 1, 'ANY': 3, 'DISTRIBUTOR': 1, 'UNDER': 1, 'AGREEMENT': 1, 'LIABLE': 1, 'ACTUAL,': 1, 'DIRECT,': 1, 'INDIRECT,': 1, 'CONSEQUENTIAL,': 1, 'PUNITIVE': 1, 'INCIDENTAL': 1, 'IF': 1, 'GIVE': 1, 'NOTICE': 1, 'POSSIBILITY': 1, 'SUCH': 1, 'DAMAGE.': 1, '1.F.3.': 1, 'REPLACEMENT': 1, 'REFUND': 1, 'discover': 1, 'receiving': 1, '(if': 1, 'any)': 1, 'explanation': 1, 'from.': 1, 'elect': 1, 'lieu': 2, 'refund.': 2, 'electronically,': 1, 'choose': 1, 'electronically': 1, 'defective,': 1, 'demand': 1, 'opportunities': 1, 'problem.': 1, '1.F.4.': 1, \"'AS-IS'\": 1, 'WITH': 1, 'OTHER': 1, 'WARRANTIES': 2, 'KIND,': 1, 'EXPRESS': 1, 'IMPLIED,': 1, 'INCLUDING': 1, 'BUT': 1, 'MERCHANTIBILITY': 1, 'FITNESS': 1, 'PURPOSE.': 1, '1.F.5.': 1, 'states': 4, 'disclaimers': 1, 'implied': 1, 'warranties': 1, 'exclusion': 1, 'limitation': 3, 'types': 1, 'damages.': 1, 'disclaimer': 2, 'violates': 1, 'law': 1, 'interpreted': 1, 'maximum': 1, 'law.': 1, 'invalidity': 1, 'unenforceability': 1, 'provision': 1, 'void': 1, 'provisions.': 1, '1.F.6.': 1, 'INDEMNITY': 1, 'indemnify': 1, 'owner,': 1, 'agent': 1, 'employee': 1, 'production,': 1, 'promotion': 1, 'harmless': 1, 'liability,': 1, 'fees,': 1, 'arise': 1, 'directly': 1, 'indirectly': 1, 'occur:': 1, '(a)': 1, '(b)': 1, 'alteration,': 1, 'modification,': 1, 'additions': 1, 'deletions': 1, '(c)': 1, 'Defect': 1, 'cause.': 1, '2.': 1, 'Information': 4, 'Mission': 1, 'synonymous': 1, 'readable': 2, 'widest': 2, 'variety': 1, 'computers': 1, 'obsolete,': 1, 'middle-aged': 1, 'computers.': 1, 'exists': 1, 'efforts': 2, 'hundreds': 1, 'walks': 1, 'Volunteers': 1, 'financial': 1, 'assistance': 1, 'need,': 1, 'critical': 1, \"Gutenberg-tm's\": 1, 'goals': 1, 'ensuring': 1, 'available': 1, 'generations': 1, 'come.': 1, '2001,': 1, 'created': 2, 'secure': 1, 'permanent': 1, 'generations.': 1, 'help,': 1, 'Sections': 1, '4': 1, 'page': 2, 'http://www.pglaf.org.': 1, '3.': 1, 'non': 1, 'profit': 1, '501(c)(3)': 2, 'educational': 1, 'corporation': 1, 'organized': 1, 'Mississippi': 1, 'granted': 1, 'exempt': 2, 'Internal': 1, 'Revenue': 1, 'Service.': 1, \"Foundation's\": 3, 'EIN': 1, 'federal': 2, 'identification': 1, '64-6221541.': 1, 'Its': 2, 'letter': 1, 'http://pglaf.org/fundraising.': 1, 'Contributions': 1, 'deductible': 1, 'extent': 1, 'U.S.': 3, \"state's\": 1, 'laws.': 1, 'principal': 1, 'office': 2, '4557': 1, 'Melan': 1, 'Dr.': 2, 'S.': 2, 'Fairbanks,': 1, 'AK,': 1, '99712.,': 1, 'scattered': 1, 'throughout': 1, 'numerous': 1, 'locations.': 1, '809': 1, 'North': 1, '1500': 1, 'West,': 1, 'Salt': 1, 'Lake': 1, 'City,': 1, 'UT': 1, '84116,': 1, '(801)': 1, '596-1887,': 1, 'email': 2, 'business@pglaf.org.': 1, 'Email': 1, 'contact': 3, 'information': 2, 'http://pglaf.org': 2, 'information:': 1, 'Gregory': 1, 'B.': 1, 'Newby': 1, 'Chief': 1, 'Executive': 1, 'Director': 1, 'gbnewby@pglaf.org': 1, '4.': 1, 'Donations': 2, 'survive': 1, 'increasing': 1, 'licensed': 1, 'machine': 1, 'accessible': 1, 'array': 1, 'equipment': 1, 'outdated': 1, 'Many': 1, '($1': 1, '$5,000)': 1, 'particularly': 1, 'maintaining': 1, 'IRS.': 1, 'committed': 1, 'regulating': 1, 'charities': 1, 'charitable': 1, '50': 1, 'Compliance': 1, 'uniform': 1, 'effort,': 1, 'paperwork': 1, 'requirements.': 1, 'solicit': 2, 'locations': 1, 'confirmation': 1, 'compliance.': 1, 'SEND': 1, 'DONATIONS': 1, 'determine': 1, 'visit': 1, 'contributions': 1, 'solicitation': 1, 'requirements,': 1, 'prohibition': 1, 'accepting': 1, 'unsolicited': 1, 'donors': 1, 'approach': 1, 'offers': 1, 'donate.': 1, 'International': 1, 'gratefully': 1, 'accepted,': 1, 'statements': 1, 'treatment': 1, 'swamp': 1, 'staff.': 1, 'Please': 1, 'Web': 3, 'pages': 1, 'current': 1, 'donation': 1, 'methods': 1, 'addresses.': 1, 'accepted': 1, 'checks,': 1, 'credit': 1, 'card': 1, 'donations.': 1, 'donate,': 1, 'visit:': 1, 'http://pglaf.org/donate': 1, '5.': 1, 'About': 1, 'Professor': 1, 'Hart': 1, 'originator': 1, 'library': 1, 'anyone.': 1, 'thirty': 1, 'eBooks': 3, 'network': 1, 'volunteer': 1, 'support.': 1, 'editions,': 1, 'confirmed': 1, 'Public': 1, 'Domain': 1, 'included.': 1, 'Thus,': 1, 'necessarily': 1, 'edition.': 1, 'Most': 1, 'start': 1, 'main': 1, 'PG': 1, 'facility:': 1, 'http://www.gutenberg.org': 1, 'includes': 1, 'Gutenberg-tm,': 1, 'produce': 1, 'subscribe': 1, 'newsletter': 1}\n"
     ]
    }
   ],
   "source": [
    "### YOUR CODE GOES BELOW\n",
    "fileRead = open(\"Alice.txt\")\n",
    "lines = fileRead.readlines()\n",
    "dictionary = {}\n",
    "\n",
    "for line in range(len(lines)):\n",
    "    for x in lines[line].split():\n",
    "        if dictionary.get(x) == None:\n",
    "            dictionary[x] = 1\n",
    "        else:\n",
    "            dictionary[x] += 1\n",
    "print(dictionary)\n",
    "### END CODE"
   ]
  },
  {
   "cell_type": "markdown",
   "metadata": {},
   "source": [
    "#### Example code for sorting a dictionary by value in reverse order"
   ]
  },
  {
   "cell_type": "code",
   "execution_count": 26,
   "metadata": {},
   "outputs": [
    {
     "name": "stdout",
     "output_type": "stream",
     "text": [
      "eight 8\n",
      "seven 7\n",
      "five 5\n",
      "four 4\n",
      "two 2\n",
      "one 1\n"
     ]
    }
   ],
   "source": [
    "myDict = {'seven': 7, 'four': 4, 'one': 1, 'two': 2, 'five': 5, 'eight': 8} \n",
    "sortedDict = sorted(myDict, key=myDict.get, reverse=True)\n",
    "\n",
    "for key in sortedDict:\n",
    "    print key,myDict[key]"
   ]
  },
  {
   "cell_type": "code",
   "execution_count": null,
   "metadata": {
    "collapsed": true
   },
   "outputs": [],
   "source": []
  }
 ],
 "metadata": {
  "kernelspec": {
   "display_name": "Python 3",
   "language": "python",
   "name": "python3"
  },
  "language_info": {
   "codemirror_mode": {
    "name": "ipython",
    "version": 3
   },
   "file_extension": ".py",
   "mimetype": "text/x-python",
   "name": "python",
   "nbconvert_exporter": "python",
   "pygments_lexer": "ipython3",
   "version": "3.6.5"
  }
 },
 "nbformat": 4,
 "nbformat_minor": 2
}
